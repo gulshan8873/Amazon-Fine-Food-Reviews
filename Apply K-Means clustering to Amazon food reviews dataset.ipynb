{
 "cells": [
  {
   "cell_type": "markdown",
   "metadata": {},
   "source": [
    "# Implementing K means++ and K medoids"
   ]
  },
  {
   "cell_type": "markdown",
   "metadata": {},
   "source": [
    "# BOW"
   ]
  },
  {
   "cell_type": "code",
   "execution_count": 1,
   "metadata": {},
   "outputs": [],
   "source": [
    "#loading data from files\n",
    "from scipy import sparse\n",
    "\n",
    "X_train_BOW = sparse.load_npz(\"X_train_BOW.npz\")"
   ]
  },
  {
   "cell_type": "code",
   "execution_count": 1,
   "metadata": {},
   "outputs": [],
   "source": [
    "import numpy as np \n",
    "X_train=np.load('X_train.npy')"
   ]
  },
  {
   "cell_type": "markdown",
   "metadata": {},
   "source": [
    "# KMeans Implementation"
   ]
  },
  {
   "cell_type": "code",
   "execution_count": 3,
   "metadata": {},
   "outputs": [],
   "source": [
    "from sklearn.cluster import KMeans\n",
    "\n",
    "cluster_values=[2,3,4,5,6,7,8,9]\n",
    "\n",
    "loss_data=[]\n",
    "\n",
    "for i in cluster_values:\n",
    "    kmeans = KMeans(n_clusters=i, n_init=5,n_jobs=-1).fit(X_train_BOW)\n",
    "    loss_data.append(kmeans.inertia_)"
   ]
  },
  {
   "cell_type": "markdown",
   "metadata": {},
   "source": [
    "# Elbow or knee method"
   ]
  },
  {
   "cell_type": "code",
   "execution_count": 5,
   "metadata": {},
   "outputs": [
    {
     "data": {
      "image/png": "[encoded data removed]",
      "text/plain": [
       "<Figure size 432x288 with 1 Axes>"
      ]
     },
     "metadata": {},
     "output_type": "display_data"
    }
   ],
   "source": [
    "import matplotlib.pyplot as plt\n",
    "\n",
    "# Draw Loss VS cluster values plot\n",
    "plt.plot(cluster_values, loss_data)\n",
    "plt.xlabel('Cluster-values',size=14)\n",
    "plt.ylabel('Loss',size=14)\n",
    "plt.title('Loss VS Cluster-values Plot\\n',size=18)\n",
    "plt.grid()\n",
    "plt.show()"
   ]
  },
  {
   "cell_type": "markdown",
   "metadata": {},
   "source": [
    "Observation: From the above plot we can see that there is inflection at k=6 before this point loss was decreasing faster as compared to the loss decreasing after it. so the best value of k=6"
   ]
  },
  {
   "cell_type": "code",
   "execution_count": 8,
   "metadata": {},
   "outputs": [],
   "source": [
    "optimal_k=6\n",
    "\n",
    "kmeans = KMeans(n_clusters=optimal_k,n_jobs=-1).fit(X_train_BOW)"
   ]
  },
  {
   "cell_type": "code",
   "execution_count": 10,
   "metadata": {},
   "outputs": [
    {
     "name": "stdout",
     "output_type": "stream",
     "text": [
      "No. of reviews in Cluster-1 :  999\n",
      "\n",
      "No. of reviews in Cluster-2 :  4630\n",
      "\n",
      "No. of reviews in Cluster-3 :  490\n",
      "\n",
      "No. of reviews in Cluster-4 :  33346\n",
      "\n",
      "No. of reviews in Cluster-5 :  857\n",
      "\n",
      "No. of reviews in Cluster-5 :  1678\n"
     ]
    }
   ],
   "source": [
    "# taking all the reviews in different clusters\n",
    "cluster1 = []\n",
    "cluster2 = []\n",
    "cluster3 = []\n",
    "cluster4 = []\n",
    "cluster5 = []\n",
    "cluster6 = []\n",
    "\n",
    "\n",
    "for i in range(kmeans.labels_.shape[0]):\n",
    "    if kmeans.labels_[i] == 0:\n",
    "        cluster1.append(X_train[i])\n",
    "    elif kmeans.labels_[i] == 1:\n",
    "        cluster2.append(X_train[i])\n",
    "    elif kmeans.labels_[i] == 2:\n",
    "        cluster3.append(X_train[i])\n",
    "    elif kmeans.labels_[i] == 3:\n",
    "        cluster4.append(X_train[i])\n",
    "    elif kmeans.labels_[i] == 4:\n",
    "        cluster5.append(X_train[i])\n",
    "    else :\n",
    "        cluster6.append(X_train[i])\n",
    "        \n",
    "# Number of reviews in different clusters\n",
    "print(\"No. of reviews in Cluster-1 : \",len(cluster1))\n",
    "print(\"\\nNo. of reviews in Cluster-2 : \",len(cluster2))\n",
    "print(\"\\nNo. of reviews in Cluster-3 : \",len(cluster3))\n",
    "print(\"\\nNo. of reviews in Cluster-4 : \",len(cluster4))\n",
    "print(\"\\nNo. of reviews in Cluster-5 : \",len(cluster5))\n",
    "print(\"\\nNo. of reviews in Cluster-5 : \",len(cluster6))"
   ]
  },
  {
   "cell_type": "markdown",
   "metadata": {},
   "source": [
    "Reading reviews manually"
   ]
  },
  {
   "cell_type": "code",
   "execution_count": 17,
   "metadata": {},
   "outputs": [
    {
     "name": "stdout",
     "output_type": "stream",
     "text": [
      "Review-1 : \n",
      " problem vendor ship cat use love product look forward get night got home work would say beaver would come run wait dish last batch dri cat wont eat even bought local pet food store found problem talk pet food store owner said lot complaint wont buy product wonder chang manufactur local pet food store owner said compani difficult deal probabl wasnt worth time complain unrespons mayb theyll care qualiti peopl stop buy product\n",
      "\n",
      "Review-2 : \n",
      " bought food look various review dog food mani differ site dog american staffordshir terrier grain allergi picki come food eat bought reason price wasnt high protein content grain instant took finish bowl still want love month allergi clear right coat realli nice tri natur varieti instinct well core ocean wasnt huge fan either shes wouldnt realli eat instinct well core took lot coercion eat gave gas overal recommend food anyon look great dog food reason price\n",
      "\n",
      "Review-3 : \n",
      " two dog finnicki pug extremem easygo airedal dog love food gobbl soon put bowl cool textur real piec meat quit soft great attribut older dog may problem jaw teeth actual use meat piec treat dog realli love food price littl high worth want dog eat food issu dog use turn nose dog food ive pour bowl stuff happili ate impress dog neither dog gastro issu brand either get drift happi chef michael grill sirloin dri dog food\n",
      "\n"
     ]
    }
   ],
   "source": [
    "# Three Reviews of cluster 1\n",
    "for i in range(3):\n",
    "    print('Review-%d : \\n %s\\n'%(i+1,cluster1[i]))"
   ]
  },
  {
   "cell_type": "code",
   "execution_count": 18,
   "metadata": {},
   "outputs": [
    {
     "name": "stdout",
     "output_type": "stream",
     "text": [
      "Review-1 : \n",
      " sweet eater prefer starchi salti thing snack crave littl someth sweet everi littl pack sweet good choic small pack sweet thing eat recent ive gone eat dont realli eat type food prefac review everyon clear isnt normal type food judg rate rate might affect fact usual dont eat process food daughter bought two box cinnamon brown sugar two flavor realli love limit sweet let one sweet sweet way sweet someon like sweet would imagin perfect amount sweet realli like crispi flaki nice softish outer shell pastri nice crisp brittl make crunchi flavor like thin crispi pop tart like good stuff pop tart without excess pastri pop tart dont like love crisp bff tri chocol one said good didnt powder fake chocol tast chocol product like crispi your sweet eater small littl treat probabl go perfect littl snack item bring eat one packag two small stick bar interior packag might fit well diet plan howev good paleo diet older kid teenag probabl great slight healthier substitut pop tart\n",
      "\n",
      "Review-2 : \n",
      " order first time last year around holiday want make nigella lawson guin gingerbread recip idea muscavado sugar thrill product order year holiday begin fabul gingebread homemad wheat bread use last bit sticki toffe pud christma eve dessert heaven great oatmeal tri cooki didnt care made cooki crispi soft chewi way like your fan crispi cooki flavor great also didnt care coffe sever review recommend read star review given sugar harden sugar soft fresh harden quick open store air tight contain one terra cotta clay piec help keep brown sugar soft work quit well\n",
      "\n",
      "Review-3 : \n",
      " xylitol natur altern chemic sugar free sweeten love use bake xylitol tend less bitter stevia anoth natur sugar substitut great one watch sugar intak mani bodi builder use natur altern chemic sweeten like sucralos tri cut calori anoth plus xylitol good teeth use make homemad tooth past mouthwash realli work downsid xylitol pricey averag cost per pound tri brand also heard good thing ideal brand xylitol also offer brown sugar version yes pleas read label toxic anim caus laxat type effect consum\n",
      "\n"
     ]
    }
   ],
   "source": [
    "# Three Reviews of cluster 2\n",
    "for i in range(3):\n",
    "    print('Review-%d : \\n %s\\n'%(i+1,cluster2[i]))"
   ]
  },
  {
   "cell_type": "code",
   "execution_count": 19,
   "metadata": {},
   "outputs": [
    {
     "name": "stdout",
     "output_type": "stream",
     "text": [
      "Review-1 : \n",
      " product meant person thin hair matter type process youv done make scalp hair dri frizzi brittl first issu product direct sure product savvi person might abl intuit exact much use appli shower wet towel hair dri hair use blow dryer clue tri various way end result greasi look mat hair bodi tri wet dri hair use pea size amount massag shoulder length hair tri use drop water spray tri smaller smaller amount time much see besid oili put smidgen end hair product suppos dri scalp like smell guess thought go hot oil treatment typic use past advic product maker would target advertis direct whomev product work clue anyon type hair provid instruct much use best result\n",
      "\n",
      "Review-2 : \n",
      " hubbi alway look someth control itch flake especi drier month recent tri target plus therapeut shampoo work well odor offend great nose pick shampoo hope would satisfi sens hubbi shampoo condition bio nutrium blend nutrient botan activ includ ginseng tea tree natur mint activ ingredi pyrithion zinc lather nice smell great nice consist packag attract question good control dandruff itch use month regular previous use head shoulder shampoo condition activ ingredi clean man scalp therapi better job control dandruff associ itch mayb bio nitrium differ left hair manag smooth found price slight higher area compar pyrithion zinc work dandruff itch clear man scalp therapi excel choic must tri star rave big guy hope irrit flake thing past\n",
      "\n",
      "Review-3 : \n",
      " clear scalp hair beauti therapi ultra shea intens scalp nourish balm extrem satisfi clear scalp hair therapi volum root boost shampoo receiv thought would give clear intens scalp nourish balm tri realli sorri product direct use entir greasi made african american hair label say recommend anyon\n",
      "\n"
     ]
    }
   ],
   "source": [
    "# Three Reviews of cluster 3\n",
    "for i in range(3):\n",
    "    print('Review-%d : \\n %s\\n'%(i+1,cluster3[i]))"
   ]
  },
  {
   "cell_type": "code",
   "execution_count": 20,
   "metadata": {},
   "outputs": [
    {
     "name": "stdout",
     "output_type": "stream",
     "text": [
      "Review-1 : \n",
      " realli enjoy ramen soup although other describ flavor bland found refresh light review suggest one could add tofu veggi make meal\n",
      "\n",
      "Review-2 : \n",
      " found base orient supermarket best base buy sodium compar knorr sodium totol excel knorr good way salti want great chicken flavor use brand never comment want share experi bought everi kind soup base tie get totol flavor buy stuff orient super market must huge one\n",
      "\n",
      "Review-3 : \n",
      " love lunchbox age anytim get veggi fruit withot battl win win first time buy groceri item amazon cant find flavor local store area buy side note pretti sure can ill repost wrong\n",
      "\n"
     ]
    }
   ],
   "source": [
    "# Three Reviews of cluster 4\n",
    "for i in range(3):\n",
    "    print('Review-%d : \\n %s\\n'%(i+1,cluster4[i]))"
   ]
  },
  {
   "cell_type": "code",
   "execution_count": 21,
   "metadata": {},
   "outputs": [
    {
     "name": "stdout",
     "output_type": "stream",
     "text": [
      "Review-1 : \n",
      " love soursop tea anoth name graviola look place buy real black tea oppos fruit herbal tea touch soursop accent similar bergamot earl grey sens still real black tea touch flavor effect someth overpow artifici price pretti good well even ebay item seem expens\n",
      "\n",
      "Review-2 : \n",
      " genmai cha green sencha tea mix toast rice that tast well like drink mild green tea mix strong popcorn rice tast smell fragrant strong overpow tast new uppiti tea critic best ive tri far ive spent far far far less certain wouldnt want green tea rice drown subtler flavor definit must surpris fresh qualiti tea price point\n",
      "\n",
      "Review-3 : \n",
      " tasti flavor tea love blackberri anyway fan lipton blackberri tea thought would tri blackberri vanilla yummi warn though usual put teaspoon sugar tea would recommend half sugar tea fair sweet begin cautious sweetner problem fall allergi make throat feel much better love\n",
      "\n"
     ]
    }
   ],
   "source": [
    "# Three Reviews of cluster 5\n",
    "for i in range(3):\n",
    "    print('Review-%d : \\n %s\\n'%(i+1,cluster5[i]))"
   ]
  },
  {
   "cell_type": "code",
   "execution_count": 22,
   "metadata": {},
   "outputs": [
    {
     "name": "stdout",
     "output_type": "stream",
     "text": [
      "Review-1 : \n",
      " think residu actual crema though heavi espresso shot crema flavor aromat froth made air bubbl combin coffe solubl oil strong presenc crema indic qualiti coffe crema help give espresso fuller flavor longer aftertast drip coffe excel coffe crema make better\n",
      "\n",
      "Review-2 : \n",
      " coffe flavor without overpow use one wolfgang puck flavor coffe pod along either senseo melita medium roast depend pod everi morn like coffe strong result strong smooth light flavor without bitter yum even though use two coffe pod everi morn end cost wise use\n",
      "\n",
      "Review-3 : \n",
      " look buy creamer mistaken believ product would pair well coffe enjoy cinnamon vanilla flavor coffe list opinion said creamer use normal coffe unflavor medium roast well flavor coffe type coffe ground day amount creamer receiv border ridicul packag contain near lbs creamer creamer individu packag arriv four carton contain creamer carton easi open flap allow easi access creamer weak receiv textur color flavor tradit creamer one bottl must use rough creamer vanilla tast minim cinnamon tast preval cinnamon tast rather repugn almost sour tast individu creamer rather hard open difficult grab flap ton glue use often time tear flap glu heavili would recommend product ive actual tri give creamer away sever peopl tast one want even work remain creamer sit week first contain still empti mean brought still sit\n",
      "\n"
     ]
    }
   ],
   "source": [
    "# Three Reviews of cluster 6\n",
    "for i in range(3):\n",
    "    print('Review-%d : \\n %s\\n'%(i+1,cluster6[i]))"
   ]
  },
  {
   "cell_type": "markdown",
   "metadata": {},
   "source": [
    "# K Medoids Implementation"
   ]
  },
  {
   "cell_type": "code",
   "execution_count": 23,
   "metadata": {},
   "outputs": [
    {
     "name": "stdout",
     "output_type": "stream",
     "text": [
      "No. of reviews in Cluster-1 :  2\n",
      "\n",
      "No. of reviews in Cluster-2 :  1\n",
      "\n",
      "No. of reviews in Cluster-3 :  3\n",
      "\n",
      "No. of reviews in Cluster-4 :  3671\n",
      "\n",
      "No. of reviews in Cluster-5 :  322\n",
      "\n",
      "No. of reviews in Cluster-6 :  1\n"
     ]
    }
   ],
   "source": [
    "from sklearn.metrics.pairwise import pairwise_distances\n",
    "import kmedoids\n",
    "\n",
    "# distance matrix\n",
    "X_train_BOW_k=X_train_BOW[0:4000,:]\n",
    "D = pairwise_distances(X_train_BOW_k, metric='euclidean')\n",
    "\n",
    "# split into 6 clusters\n",
    "M, C = kmedoids.kMedoids(D, optimal_k)\n",
    "\n",
    "# Getting the reviews in all clusters\n",
    "cluster1 = []\n",
    "cluster2 = []\n",
    "cluster3 = []\n",
    "cluster4 = []\n",
    "cluster5 = []\n",
    "cluster6 = []\n",
    "\n",
    "for label in C:\n",
    "    for index in C[label]:\n",
    "        if label == 0 :\n",
    "            cluster1.append(X_train[index])  \n",
    "        elif label == 1:\n",
    "            cluster2.append(X_train[index])\n",
    "        elif label == 2:\n",
    "            cluster3.append(X_train[index])\n",
    "        elif label == 3:\n",
    "            cluster4.append(X_train[index])\n",
    "        elif label == 4:\n",
    "            cluster5.append(X_train[index])\n",
    "        else :\n",
    "            cluster6.append(X_train[index])\n",
    "\n",
    "# Number of reviews in different clusters\n",
    "print(\"No. of reviews in Cluster-1 : \",len(cluster1))\n",
    "print(\"\\nNo. of reviews in Cluster-2 : \",len(cluster2))\n",
    "print(\"\\nNo. of reviews in Cluster-3 : \",len(cluster3))\n",
    "print(\"\\nNo. of reviews in Cluster-4 : \",len(cluster4))\n",
    "print(\"\\nNo. of reviews in Cluster-5 : \",len(cluster5))\n",
    "print(\"\\nNo. of reviews in Cluster-6 : \",len(cluster6))"
   ]
  },
  {
   "cell_type": "code",
   "execution_count": 24,
   "metadata": {},
   "outputs": [
    {
     "name": "stdout",
     "output_type": "stream",
     "text": [
      "Review-1 : \n",
      " feed daughter dog bene sinc time restock decid check onlin better altern reason price shock find huge number websit list bene one worst dog food avail detail explan even purina one made compani consid better altern nutshel bene primarili compris cheap ingredi supplement addit make nutrit analysi look good food appet dog look care ingredi list actual add sugar salt amongst nasti thing bene appet dog despit junk made one websit even compar bene crack dog main ingredi corn easili digest dog real meat meat byproduct appear way list probabl explain dog constant hungri despit fact feed prescrib alway itch problem replac better brand without break budget pleasant surpris research abl locat brand compar price pound pound much better ingredi list rate much higher various independ dog food review site amaz bene cheap junk ingredi dupe peopl pay much dog food made real meat primari ingredi anyway found least two amazon look realli good other one save merrick whole earth farm adult dri fog food bag chicken soup dog lover soul dri dog food senior dog chicken flavor pound bag time review bag actual cheaper bene per pound elig super saver prime ship order latter updat see dog like\n",
      "\n",
      "Review-2 : \n",
      " love castor pollux organix dog food done much research seem best best expens top qualiti food run around price one fall categori mani import factor organ chicken ad growth hormon antibiot kibbl small dog found tasti made usa import contain chicken mani dog food recal contain chicken made china much love product sad report agre cavali king charl spaniel puppi gradual introduc organix mix previous food halo span week stool consist soft everi awhil would normal stool part either soft stool occasion liquid diarrhea kept food month halo month problem soft stool halo hope system would get use never encourag anyon els tri new food dog stool becom normal within coupl week chang food differ type meat food instead wait see work ongo soft stool led anoth issu dog soft stool long time went vet get test worm potenti issu result came back normal except anal gland appar dog individu scent come gland butt dog sniff scent brown liquid come anal gland butt everi time defec howev soft stool regular basi liquid push otherwis normal stool gland becom back clog caus kind issu taken care could need surgeri sign dog might clog scooch butt floor thank point need surgeri vet easili abl get liquid dri form hard chunk caus pain irrit mention case inform could potenti help fellow pet parent tri organix halo well boil chicken rice plain ground beef rice high qualiti food decid tri hypoallergen food final consist normal stool regular basi last month first time sinc suspect may stomach irrit meat chicken beef common realiz research food current natur varieti instinct duck turkey meal formula doesnt like tast food much other mix meal small amount natur varieti instinct can duck formula love although can food high qualiti dri food far qualiti ingredi caus tarter teeth quick brush dog teeth regular basi sinc natur varieti brand consid hypoallergen introduc salmon formula mix small amount duck food caus soft stool dog sensit stomach tri duck otherwis organix best food buy dog far qualiti goe high recommend also high recommend look dog food review dogfoodadvisor com know read dog food label look\n",
      "\n"
     ]
    }
   ],
   "source": [
    "# Some Reviews of cluster 1\n",
    "for i in range(2):\n",
    "    print('Review-%d : \\n %s\\n'%(i+1,cluster1[i]))"
   ]
  },
  {
   "cell_type": "code",
   "execution_count": 25,
   "metadata": {},
   "outputs": [
    {
     "name": "stdout",
     "output_type": "stream",
     "text": [
      "Review-1 : \n",
      " finish six week class cook essenti local restaur went stock prepar use lot restaur prepar stock dish becam clear wouldnt time prepar stock wouldnt need larg volum stock home difficulti find veal bone want wonder flavor sauc home product answer first dish use one recip class good comparison meal right flavor textur ive sinc pass inform mtg product other class\n",
      "\n"
     ]
    }
   ],
   "source": [
    "# Some Reviews of cluster 2\n",
    "for i in range(1):\n",
    "    print('Review-%d : \\n %s\\n'%(i+1,cluster2[i]))"
   ]
  },
  {
   "cell_type": "code",
   "execution_count": 26,
   "metadata": {},
   "outputs": [
    {
     "name": "stdout",
     "output_type": "stream",
     "text": [
      "Review-1 : \n",
      " like cereal tast sturdi crunch cereal imper read side box know your eat oatmeal yes make tast good nine gram sugar that amount sugar per serv honey nut cheerio rice krispi treat cereal two gram classic sugar frost flake lucki charm keep mind serv measli cup make cup half your gram sugar yike reason quaker oatmeal squar outlaw home also incred expens compar canist real cent bowl quaker oat bowl qos list sugar five top seven ingredi see list recommend whole oat flour whole wheat flour brown sugar sugar maltodextrin malt barley extract molass\n",
      "\n",
      "Review-2 : \n",
      " ive use erythritol littl year ad bonus particular brand assur use truvia extrem expens especi tri bake found recip make truvia erytritol stevia easi make fraction cost truvia know sweetner sure everyon know though erythritol melt like sugar order make work recip realli need powder use recip put coffe mill ninja vitamix someth high process speed blend powder open lid settl though otherwis kitchen coat sweet white powder anyway post blend make truvia convers sugar homemad granular truvia also powder truvia convers hope help baker sure great cook bake homemad truvia sweeten make cup sweeten substitut teaspoon good tast stevia extract use nunatur pure white stevia extract cup erythritol add ingredi plastic baggi shake baggi well mix sweeten replac cup truvia mix teaspoon pure stevia extract cup erythritol enjoy truvia convers spoonabl teaspoon sugar teaspoon truvia teaspoon powder truvia cup sugar tablespoon plus teaspoon truvia tablespoon plus teaspoon powder truvia cup sugar tablespoon truvia cup plus tablespoon powder truvia cup sugar cup plus tablespoon truvia cup plus tablespoon powder truvia\n",
      "\n",
      "Review-3 : \n",
      " quaker oatmeal squar hint brown sugar come box quit sweet enough that someth consid attach becom southern favorit sweet ice tea theyv also got nice crunch ive found tasti breakfast snack solubl oatmeal good way help satisfi feder dietari guidelin suggest daili whole grain consumpt cours cereal use babi step toward keep heart healthi quaker product contain gram whole grain per one cup gram serv eleven box guidelin suggest minimum whole grain requir per serv calori per serv gram protein per serv satur fat daili suggest intak element sodium daili suggest fiber daili suggest tran fat polyunsatur fat monounsatur fat per serv look ingredi actual see noth tri avoid corn syrup etc feder guidelin say diet rich whole grain food plant food may help reduc risk heart diseas product offer solubl fiber serv handi keyston diet low satur fat cholesterol diet expert recommend eat least three serv whole grain gram daili base calori daili diet gram whole grain per serv handi right tast good good win combo good food tri\n",
      "\n"
     ]
    }
   ],
   "source": [
    "# Some Reviews of cluster 3\n",
    "for i in range(3):\n",
    "    print('Review-%d : \\n %s\\n'%(i+1,cluster3[i]))"
   ]
  },
  {
   "cell_type": "code",
   "execution_count": 27,
   "metadata": {},
   "outputs": [
    {
     "name": "stdout",
     "output_type": "stream",
     "text": [
      "Review-1 : \n",
      " realli enjoy ramen soup although other describ flavor bland found refresh light review suggest one could add tofu veggi make meal\n",
      "\n",
      "Review-2 : \n",
      " found base orient supermarket best base buy sodium compar knorr sodium totol excel knorr good way salti want great chicken flavor use brand never comment want share experi bought everi kind soup base tie get totol flavor buy stuff orient super market must huge one\n",
      "\n",
      "Review-3 : \n",
      " love lunchbox age anytim get veggi fruit withot battl win win first time buy groceri item amazon cant find flavor local store area buy side note pretti sure can ill repost wrong\n",
      "\n"
     ]
    }
   ],
   "source": [
    "# Some Reviews of cluster 4\n",
    "for i in range(3):\n",
    "    print('Review-%d : \\n %s\\n'%(i+1,cluster4[i]))"
   ]
  },
  {
   "cell_type": "code",
   "execution_count": 28,
   "metadata": {},
   "outputs": [
    {
     "name": "stdout",
     "output_type": "stream",
     "text": [
      "Review-1 : \n",
      " sweet eater prefer starchi salti thing snack crave littl someth sweet everi littl pack sweet good choic small pack sweet thing eat recent ive gone eat dont realli eat type food prefac review everyon clear isnt normal type food judg rate rate might affect fact usual dont eat process food daughter bought two box cinnamon brown sugar two flavor realli love limit sweet let one sweet sweet way sweet someon like sweet would imagin perfect amount sweet realli like crispi flaki nice softish outer shell pastri nice crisp brittl make crunchi flavor like thin crispi pop tart like good stuff pop tart without excess pastri pop tart dont like love crisp bff tri chocol one said good didnt powder fake chocol tast chocol product like crispi your sweet eater small littl treat probabl go perfect littl snack item bring eat one packag two small stick bar interior packag might fit well diet plan howev good paleo diet older kid teenag probabl great slight healthier substitut pop tart\n",
      "\n"
     ]
    }
   ],
   "source": [
    "# Some Reviews of cluster 5\n",
    "for i in range(1):\n",
    "    print('Review-%d : \\n %s\\n'%(i+1,cluster5[i]))"
   ]
  },
  {
   "cell_type": "code",
   "execution_count": 30,
   "metadata": {},
   "outputs": [
    {
     "name": "stdout",
     "output_type": "stream",
     "text": [
      "Review-1 : \n",
      " year old wire fox terrier favorit treat hes picki littl guy hes big fan even smoke flavor rawhid sometim may even turn nose smoke pig ear though rare usual hes pout never turn goe absolut berserk open pack smell aroma waft fair strong though unpleas odor fair citrusi that surpris treat full vitamin accord packag import canin dental health assum lack vitamin dog diet caus similar condit scurvi sinc vitamin non water solubl vitamin import overdos dog water solubl vitamin like vitamin near imposs overdos dog pee excess vitamin non water solubl vitamin like vitamin accumul bodi excess caus harm stick recommend daili dose packag unfortun quit difficult neat break smaller piec dont even bother ideal train treat long treat last think depend dog breed individu dog rather dens heavi littl wire fox tend demolish thing pretti quick consum larg smoke pig ear less five minut rip plank wood side garag tri get groundhog etc treat last second one thing found interest treat particular though seem love flavor also seem compel drink healthi sever gulp water bowl finish one sure enough packag say make sure pet access water given treat two thing think import dont overfe treat pet make sure pet access water packag say max treat per hes littl guy give one far breath concern havent realli notic chang perhap ad citrus scent minut finish treat that dont think much suppli dog import nutrient oral health perhap peopl like ad citrus scent pet breath theyr substitut tooth brush use brushless tooth cleaner make excel treat wonder treat dog love great train cant broken contain vitamin oral health dont want give dog mani one day mild freshen breath minut take pound terrier second consum someth cross nutriti treat toy\n",
      "\n"
     ]
    }
   ],
   "source": [
    "# Three Reviews of cluster 6\n",
    "for i in range(1):\n",
    "    print('Review-%d : \\n %s\\n'%(i+1,cluster6[i]))"
   ]
  },
  {
   "cell_type": "markdown",
   "metadata": {},
   "source": [
    "# TF-IDF"
   ]
  },
  {
   "cell_type": "code",
   "execution_count": 2,
   "metadata": {},
   "outputs": [],
   "source": [
    "from scipy import sparse\n",
    "\n",
    "X_train_tfidf = sparse.load_npz(\"X_train_tfidf.npz\")"
   ]
  },
  {
   "cell_type": "markdown",
   "metadata": {},
   "source": [
    "# KMeans ++ Implementation"
   ]
  },
  {
   "cell_type": "code",
   "execution_count": 3,
   "metadata": {},
   "outputs": [],
   "source": [
    "from sklearn.cluster import KMeans\n",
    "\n",
    "cluster_values=[2,3,4,5,6,7,8,9,10]\n",
    "\n",
    "loss_data=[]\n",
    "\n",
    "for i in cluster_values:\n",
    "    kmeans = KMeans(n_clusters=i,n_jobs=-1).fit(X_train_tfidf)\n",
    "    loss_data.append(kmeans.inertia_)"
   ]
  },
  {
   "cell_type": "markdown",
   "metadata": {},
   "source": [
    "# Elbow or knee method"
   ]
  },
  {
   "cell_type": "code",
   "execution_count": 5,
   "metadata": {},
   "outputs": [
    {
     "data": {
      "image/png": "[encoded data removed]",
      "text/plain": [
       "<Figure size 432x288 with 1 Axes>"
      ]
     },
     "metadata": {},
     "output_type": "display_data"
    }
   ],
   "source": [
    "import matplotlib.pyplot as plt\n",
    "\n",
    "# Draw Loss VS cluster values plot\n",
    "plt.plot(cluster_values, loss_data)\n",
    "plt.xlabel('Cluster-values',size=14)\n",
    "plt.ylabel('Loss',size=14)\n",
    "plt.title('Loss VS Cluster-values Plot\\n',size=18)\n",
    "plt.grid()\n",
    "plt.show()"
   ]
  },
  {
   "cell_type": "markdown",
   "metadata": {},
   "source": [
    "Observation: From the above plot we can see that there is inflection at k=5 before this point loss was decreasing faster as compared to the loss decreasing after it. so the best value of k=5"
   ]
  },
  {
   "cell_type": "code",
   "execution_count": 6,
   "metadata": {},
   "outputs": [],
   "source": [
    "optimal_k=5\n",
    "\n",
    "kmeans = KMeans(n_clusters=optimal_k,n_jobs=-1).fit(X_train_tfidf)"
   ]
  },
  {
   "cell_type": "code",
   "execution_count": 7,
   "metadata": {},
   "outputs": [
    {
     "name": "stdout",
     "output_type": "stream",
     "text": [
      "No. of reviews in Cluster-1 :  31362\n",
      "\n",
      "No. of reviews in Cluster-2 :  2294\n",
      "\n",
      "No. of reviews in Cluster-3 :  3662\n",
      "\n",
      "No. of reviews in Cluster-4 :  822\n",
      "\n",
      "No. of reviews in Cluster-5 :  3860\n"
     ]
    }
   ],
   "source": [
    "# taking all the reviews in different clusters\n",
    "cluster1 = []\n",
    "cluster2 = []\n",
    "cluster3 = []\n",
    "cluster4 = []\n",
    "cluster5 = []\n",
    "\n",
    "\n",
    "for i in range(kmeans.labels_.shape[0]):\n",
    "    if kmeans.labels_[i] == 0:\n",
    "        cluster1.append(X_train[i])\n",
    "    elif kmeans.labels_[i] == 1:\n",
    "        cluster2.append(X_train[i])\n",
    "    elif kmeans.labels_[i] == 2:\n",
    "        cluster3.append(X_train[i])\n",
    "    elif kmeans.labels_[i] == 3:\n",
    "        cluster4.append(X_train[i])\n",
    "    else :\n",
    "        cluster5.append(X_train[i])\n",
    "        \n",
    "# Number of reviews in different clusters\n",
    "print(\"No. of reviews in Cluster-1 : \",len(cluster1))\n",
    "print(\"\\nNo. of reviews in Cluster-2 : \",len(cluster2))\n",
    "print(\"\\nNo. of reviews in Cluster-3 : \",len(cluster3))\n",
    "print(\"\\nNo. of reviews in Cluster-4 : \",len(cluster4))\n",
    "print(\"\\nNo. of reviews in Cluster-5 : \",len(cluster5))"
   ]
  },
  {
   "cell_type": "code",
   "execution_count": 8,
   "metadata": {},
   "outputs": [
    {
     "name": "stdout",
     "output_type": "stream",
     "text": [
      "Review-1 : \n",
      " realli enjoy ramen soup although other describ flavor bland found refresh light review suggest one could add tofu veggi make meal\n",
      "\n",
      "Review-2 : \n",
      " found base orient supermarket best base buy sodium compar knorr sodium totol excel knorr good way salti want great chicken flavor use brand never comment want share experi bought everi kind soup base tie get totol flavor buy stuff orient super market must huge one\n",
      "\n",
      "Review-3 : \n",
      " love lunchbox age anytim get veggi fruit withot battl win win first time buy groceri item amazon cant find flavor local store area buy side note pretti sure can ill repost wrong\n",
      "\n"
     ]
    }
   ],
   "source": [
    "# Three Reviews of cluster 1\n",
    "for i in range(3):\n",
    "    print('Review-%d : \\n %s\\n'%(i+1,cluster1[i]))"
   ]
  },
  {
   "cell_type": "code",
   "execution_count": 9,
   "metadata": {},
   "outputs": [
    {
     "name": "stdout",
     "output_type": "stream",
     "text": [
      "Review-1 : \n",
      " live remot area local grocer stop sell chines resteraunt tea look read onlin oolong tea suppos help weight loss cannot vouch speed metabol tast like tea chines food place love deliveri food chang freezer delish\n",
      "\n",
      "Review-2 : \n",
      " husband love delici green tea mix berri flavor use abl buy local store longer seem carri thrill abl find amazon com buy case hope abl long time hope lipton continu make best green tea flavor\n",
      "\n",
      "Review-3 : \n",
      " love soursop tea anoth name graviola look place buy real black tea oppos fruit herbal tea touch soursop accent similar bergamot earl grey sens still real black tea touch flavor effect someth overpow artifici price pretti good well even ebay item seem expens\n",
      "\n"
     ]
    }
   ],
   "source": [
    "# Three Reviews of cluster 2\n",
    "for i in range(3):\n",
    "    print('Review-%d : \\n %s\\n'%(i+1,cluster2[i]))"
   ]
  },
  {
   "cell_type": "code",
   "execution_count": 10,
   "metadata": {},
   "outputs": [
    {
     "name": "stdout",
     "output_type": "stream",
     "text": [
      "Review-1 : \n",
      " three dog love chicken breast wrap liver littl one chihuahua mix turn nose food treat actual eat treat fact addit free rang anim make feel better meal day\n",
      "\n",
      "Review-2 : \n",
      " problem vendor ship cat use love product look forward get night got home work would say beaver would come run wait dish last batch dri cat wont eat even bought local pet food store found problem talk pet food store owner said lot complaint wont buy product wonder chang manufactur local pet food store owner said compani difficult deal probabl wasnt worth time complain unrespons mayb theyll care qualiti peopl stop buy product\n",
      "\n",
      "Review-3 : \n",
      " bought food look various review dog food mani differ site dog american staffordshir terrier grain allergi picki come food eat bought reason price wasnt high protein content grain instant took finish bowl still want love month allergi clear right coat realli nice tri natur varieti instinct well core ocean wasnt huge fan either shes wouldnt realli eat instinct well core took lot coercion eat gave gas overal recommend food anyon look great dog food reason price\n",
      "\n"
     ]
    }
   ],
   "source": [
    "# Three Reviews of cluster 3\n",
    "for i in range(3):\n",
    "    print('Review-%d : \\n %s\\n'%(i+1,cluster3[i]))"
   ]
  },
  {
   "cell_type": "code",
   "execution_count": 11,
   "metadata": {},
   "outputs": [
    {
     "name": "stdout",
     "output_type": "stream",
     "text": [
      "Review-1 : \n",
      " great famili member whose hair tend dri packag leav littl desir sinc top pop ship tight plastic bag product lost otherwis smell nice clean overpow wash well leav hair feel smooth\n",
      "\n",
      "Review-2 : \n",
      " product meant person thin hair matter type process youv done make scalp hair dri frizzi brittl first issu product direct sure product savvi person might abl intuit exact much use appli shower wet towel hair dri hair use blow dryer clue tri various way end result greasi look mat hair bodi tri wet dri hair use pea size amount massag shoulder length hair tri use drop water spray tri smaller smaller amount time much see besid oili put smidgen end hair product suppos dri scalp like smell guess thought go hot oil treatment typic use past advic product maker would target advertis direct whomev product work clue anyon type hair provid instruct much use best result\n",
      "\n",
      "Review-3 : \n",
      " hubbi alway look someth control itch flake especi drier month recent tri target plus therapeut shampoo work well odor offend great nose pick shampoo hope would satisfi sens hubbi shampoo condition bio nutrium blend nutrient botan activ includ ginseng tea tree natur mint activ ingredi pyrithion zinc lather nice smell great nice consist packag attract question good control dandruff itch use month regular previous use head shoulder shampoo condition activ ingredi clean man scalp therapi better job control dandruff associ itch mayb bio nitrium differ left hair manag smooth found price slight higher area compar pyrithion zinc work dandruff itch clear man scalp therapi excel choic must tri star rave big guy hope irrit flake thing past\n",
      "\n"
     ]
    }
   ],
   "source": [
    "# Three Reviews of cluster 4\n",
    "for i in range(3):\n",
    "    print('Review-%d : \\n %s\\n'%(i+1,cluster4[i]))"
   ]
  },
  {
   "cell_type": "code",
   "execution_count": 12,
   "metadata": {},
   "outputs": [
    {
     "name": "stdout",
     "output_type": "stream",
     "text": [
      "Review-1 : \n",
      " think residu actual crema though heavi espresso shot crema flavor aromat froth made air bubbl combin coffe solubl oil strong presenc crema indic qualiti coffe crema help give espresso fuller flavor longer aftertast drip coffe excel coffe crema make better\n",
      "\n",
      "Review-2 : \n",
      " wife love ice coffe total happi one expect never bad coffe green mountain\n",
      "\n",
      "Review-3 : \n",
      " hard find flavor decaf great combo delici love still enjoy coffe without caffein great product\n",
      "\n"
     ]
    }
   ],
   "source": [
    "# Three Reviews of cluster 5\n",
    "for i in range(3):\n",
    "    print('Review-%d : \\n %s\\n'%(i+1,cluster5[i]))"
   ]
  },
  {
   "cell_type": "markdown",
   "metadata": {},
   "source": [
    "# Kmedoids implementation"
   ]
  },
  {
   "cell_type": "code",
   "execution_count": 14,
   "metadata": {},
   "outputs": [
    {
     "name": "stdout",
     "output_type": "stream",
     "text": [
      "No. of reviews in Cluster-1 :  358\n",
      "\n",
      "No. of reviews in Cluster-2 :  941\n",
      "\n",
      "No. of reviews in Cluster-3 :  1080\n",
      "\n",
      "No. of reviews in Cluster-4 :  948\n",
      "\n",
      "No. of reviews in Cluster-5 :  673\n"
     ]
    }
   ],
   "source": [
    "from sklearn.metrics.pairwise import pairwise_distances\n",
    "import kmedoids\n",
    "\n",
    "# distance matrix\n",
    "X_train_tfidf_k=X_train_tfidf[0:4000,:]\n",
    "D = pairwise_distances(X_train_tfidf_k, metric='euclidean')\n",
    "\n",
    "# split into 5 clusters\n",
    "M, C = kmedoids.kMedoids(D, optimal_k)\n",
    "\n",
    "# Getting the reviews in all clusters\n",
    "cluster1 = []\n",
    "cluster2 = []\n",
    "cluster3 = []\n",
    "cluster4 = []\n",
    "cluster5 = []\n",
    "\n",
    "for label in C:\n",
    "    for index in C[label]:\n",
    "        if label == 0 :\n",
    "            cluster1.append(X_train[index])  \n",
    "        elif label == 1:\n",
    "            cluster2.append(X_train[index])\n",
    "        elif label == 2:\n",
    "            cluster3.append(X_train[index])\n",
    "        elif label == 3:\n",
    "            cluster4.append(X_train[index])\n",
    "        else :\n",
    "            cluster5.append(X_train[index])\n",
    "\n",
    "# Number of reviews in different clusters\n",
    "print(\"No. of reviews in Cluster-1 : \",len(cluster1))\n",
    "print(\"\\nNo. of reviews in Cluster-2 : \",len(cluster2))\n",
    "print(\"\\nNo. of reviews in Cluster-3 : \",len(cluster3))\n",
    "print(\"\\nNo. of reviews in Cluster-4 : \",len(cluster4))\n",
    "print(\"\\nNo. of reviews in Cluster-5 : \",len(cluster5))"
   ]
  },
  {
   "cell_type": "code",
   "execution_count": 15,
   "metadata": {},
   "outputs": [
    {
     "name": "stdout",
     "output_type": "stream",
     "text": [
      "Review-1 : \n",
      " winni pooh slueth collect wonder contain hard find charact pez collector great buy durabl fun pez charact tasti candi well worth cash mine mail quick arriv perfect\n",
      "\n",
      "Review-2 : \n",
      " make tanqueray gin martini home alway tast best santa barbara oliv cos martini oliv theyr perfect firm tast great fresh imagin tast day theyr bottl brine perfect feel like make martini dirti best tast jar oliv ive ever eaten\n",
      "\n"
     ]
    }
   ],
   "source": [
    "# Some Reviews of cluster 1\n",
    "for i in range(2):\n",
    "    print('Review-%d : \\n %s\\n'%(i+1,cluster1[i]))"
   ]
  },
  {
   "cell_type": "code",
   "execution_count": 21,
   "metadata": {},
   "outputs": [
    {
     "name": "stdout",
     "output_type": "stream",
     "text": [
      "Review-1 : \n",
      " realli enjoy ramen soup although other describ flavor bland found refresh light review suggest one could add tofu veggi make meal\n",
      "\n",
      "Review-2 : \n",
      " sweet eater prefer starchi salti thing snack crave littl someth sweet everi littl pack sweet good choic small pack sweet thing eat recent ive gone eat dont realli eat type food prefac review everyon clear isnt normal type food judg rate rate might affect fact usual dont eat process food daughter bought two box cinnamon brown sugar two flavor realli love limit sweet let one sweet sweet way sweet someon like sweet would imagin perfect amount sweet realli like crispi flaki nice softish outer shell pastri nice crisp brittl make crunchi flavor like thin crispi pop tart like good stuff pop tart without excess pastri pop tart dont like love crisp bff tri chocol one said good didnt powder fake chocol tast chocol product like crispi your sweet eater small littl treat probabl go perfect littl snack item bring eat one packag two small stick bar interior packag might fit well diet plan howev good paleo diet older kid teenag probabl great slight healthier substitut pop tart\n",
      "\n",
      "Review-3 : \n",
      " ive experi varieti chocol snack love browni look forward took one bite spit crap ive eaten year amaz compani chutzpah put vile crud market choos starv death eat browni think care\n",
      "\n"
     ]
    }
   ],
   "source": [
    "# Some Reviews of cluster 2\n",
    "for i in range(3):\n",
    "    print('Review-%d : \\n %s\\n'%(i+1,cluster2[i]))"
   ]
  },
  {
   "cell_type": "code",
   "execution_count": 17,
   "metadata": {},
   "outputs": [
    {
     "name": "stdout",
     "output_type": "stream",
     "text": [
      "Review-1 : \n",
      " love lunchbox age anytim get veggi fruit withot battl win win first time buy groceri item amazon cant find flavor local store area buy side note pretti sure can ill repost wrong\n",
      "\n",
      "Review-2 : \n",
      " live remot area local grocer stop sell chines resteraunt tea look read onlin oolong tea suppos help weight loss cannot vouch speed metabol tast like tea chines food place love deliveri food chang freezer delish\n",
      "\n",
      "Review-3 : \n",
      " husband ting tortola year ago wonder restaur drink grey goos ting twist lime refresh drink bought ting groceri store plan refresh search awhil luck someon mention amazon bingo\n",
      "\n"
     ]
    }
   ],
   "source": [
    "# Some Reviews of cluster 3\n",
    "for i in range(3):\n",
    "    print('Review-%d : \\n %s\\n'%(i+1,cluster3[i]))"
   ]
  },
  {
   "cell_type": "code",
   "execution_count": 18,
   "metadata": {},
   "outputs": [
    {
     "name": "stdout",
     "output_type": "stream",
     "text": [
      "Review-1 : \n",
      " found base orient supermarket best base buy sodium compar knorr sodium totol excel knorr good way salti want great chicken flavor use brand never comment want share experi bought everi kind soup base tie get totol flavor buy stuff orient super market must huge one\n",
      "\n",
      "Review-2 : \n",
      " suffer sever cramp run long distanc noth tri would help cramp sinc use product mix gatorad powerad overpow sweat lot salt that expect cramp problem due salti sweater product work\n",
      "\n",
      "Review-3 : \n",
      " great price consist high qualiti product pod plump flavor quit fresh compar brand packag cardamom frontier best sad ive even purchas amazon vendor advertis frontier brand cardamom pod receiv cheaper lower qualiti brand like spici world ill purchas amazon direct ill stay happi\n",
      "\n"
     ]
    }
   ],
   "source": [
    "# Some Reviews of cluster 4\n",
    "for i in range(3):\n",
    "    print('Review-%d : \\n %s\\n'%(i+1,cluster4[i]))"
   ]
  },
  {
   "cell_type": "code",
   "execution_count": 20,
   "metadata": {},
   "outputs": [
    {
     "name": "stdout",
     "output_type": "stream",
     "text": [
      "Review-1 : \n",
      " absolut favorit pretzel get soft stay fresh wish could bought store though\n",
      "\n",
      "Review-2 : \n",
      " three dog love chicken breast wrap liver littl one chihuahua mix turn nose food treat actual eat treat fact addit free rang anim make feel better meal day\n",
      "\n",
      "Review-3 : \n",
      " love use natur altern sugar sucan winner use bake sugar brown sugar substitut wonder result\n",
      "\n"
     ]
    }
   ],
   "source": [
    "# Some Reviews of cluster 5\n",
    "for i in range(3):\n",
    "    print('Review-%d : \\n %s\\n'%(i+1,cluster5[i]))"
   ]
  },
  {
   "cell_type": "markdown",
   "metadata": {},
   "source": [
    "# AVGW2V"
   ]
  },
  {
   "cell_type": "code",
   "execution_count": 22,
   "metadata": {},
   "outputs": [],
   "source": [
    "X_train_avgw2v = []\n",
    "with open(\"Xs_train_avgw2v.txt\", \"r\") as f:\n",
    "    str1 = ''\n",
    "    for line in f:\n",
    "        if(']' in line):\n",
    "            str1 = str1+line\n",
    "            len1 = len(str1)\n",
    "            X_train_avgw2v.append(list(np.float64(x) for x in str1[1:len1-1].strip(']').split()))\n",
    "            str1 = ''\n",
    "        else :\n",
    "            str1 = str1+line\n",
    "            "
   ]
  },
  {
   "cell_type": "markdown",
   "metadata": {},
   "source": [
    "# Kmeans implementation"
   ]
  },
  {
   "cell_type": "code",
   "execution_count": 23,
   "metadata": {},
   "outputs": [],
   "source": [
    "from sklearn.cluster import KMeans\n",
    "\n",
    "cluster_values=[2,3,4,5,6,7,8,9]\n",
    "\n",
    "loss_data=[]\n",
    "\n",
    "for i in cluster_values:\n",
    "    kmeans = KMeans(n_clusters=i,n_jobs=-1).fit(X_train_avgw2v)\n",
    "    loss_data.append(kmeans.inertia_)"
   ]
  },
  {
   "cell_type": "markdown",
   "metadata": {},
   "source": [
    "# Elbow or knee method"
   ]
  },
  {
   "cell_type": "code",
   "execution_count": 24,
   "metadata": {},
   "outputs": [
    {
     "data": {
      "image/png": "[encoded data removed]",
      "text/plain": [
       "<Figure size 432x288 with 1 Axes>"
      ]
     },
     "metadata": {},
     "output_type": "display_data"
    }
   ],
   "source": [
    "import matplotlib.pyplot as plt\n",
    "\n",
    "# Draw Loss VS cluster values plot\n",
    "plt.plot(cluster_values, loss_data)\n",
    "plt.xlabel('Cluster-values',size=14)\n",
    "plt.ylabel('Loss',size=14)\n",
    "plt.title('Loss VS Cluster-values Plot\\n',size=18)\n",
    "plt.grid()\n",
    "plt.show()"
   ]
  },
  {
   "cell_type": "markdown",
   "metadata": {},
   "source": [
    "Observation: From the above plot we can see that there is inflection at k=4 before this point loss was decreasing faster as compared to the loss decreasing after it. so the best value of k=4"
   ]
  },
  {
   "cell_type": "code",
   "execution_count": 25,
   "metadata": {},
   "outputs": [],
   "source": [
    "optimal_k=4\n",
    "\n",
    "kmeans = KMeans(n_clusters=optimal_k,n_jobs=-1).fit(X_train_avgw2v)"
   ]
  },
  {
   "cell_type": "code",
   "execution_count": 27,
   "metadata": {},
   "outputs": [
    {
     "name": "stdout",
     "output_type": "stream",
     "text": [
      "No. of reviews in Cluster-1 :  7221\n",
      "\n",
      "No. of reviews in Cluster-2 :  11750\n",
      "\n",
      "No. of reviews in Cluster-3 :  6899\n",
      "\n",
      "No. of reviews in Cluster-4 :  16130\n"
     ]
    }
   ],
   "source": [
    "# taking all the reviews in different clusters\n",
    "cluster1 = []\n",
    "cluster2 = []\n",
    "cluster3 = []\n",
    "cluster4 = []\n",
    "\n",
    "for i in range(kmeans.labels_.shape[0]):\n",
    "    if kmeans.labels_[i] == 0:\n",
    "        cluster1.append(X_train[i])\n",
    "    elif kmeans.labels_[i] == 1:\n",
    "        cluster2.append(X_train[i])\n",
    "    elif kmeans.labels_[i] == 2:\n",
    "        cluster3.append(X_train[i])\n",
    "    else :\n",
    "        cluster4.append(X_train[i])\n",
    "        \n",
    "# Number of reviews in different clusters\n",
    "print(\"No. of reviews in Cluster-1 : \",len(cluster1))\n",
    "print(\"\\nNo. of reviews in Cluster-2 : \",len(cluster2))\n",
    "print(\"\\nNo. of reviews in Cluster-3 : \",len(cluster3))\n",
    "print(\"\\nNo. of reviews in Cluster-4 : \",len(cluster4))"
   ]
  },
  {
   "cell_type": "markdown",
   "metadata": {},
   "source": [
    "Reading reviews manually"
   ]
  },
  {
   "cell_type": "code",
   "execution_count": 28,
   "metadata": {},
   "outputs": [
    {
     "name": "stdout",
     "output_type": "stream",
     "text": [
      "Review-1 : \n",
      " three dog love chicken breast wrap liver littl one chihuahua mix turn nose food treat actual eat treat fact addit free rang anim make feel better meal day\n",
      "\n",
      "Review-2 : \n",
      " suffer sever cramp run long distanc noth tri would help cramp sinc use product mix gatorad powerad overpow sweat lot salt that expect cramp problem due salti sweater product work\n",
      "\n",
      "Review-3 : \n",
      " neighbor gave can cat love ate time drank broth donat remain can local anim shelter\n",
      "\n"
     ]
    }
   ],
   "source": [
    "# Three Reviews of cluster 1\n",
    "for i in range(3):\n",
    "    print('Review-%d : \\n %s\\n'%(i+1,cluster1[i]))"
   ]
  },
  {
   "cell_type": "code",
   "execution_count": 29,
   "metadata": {},
   "outputs": [
    {
     "name": "stdout",
     "output_type": "stream",
     "text": [
      "Review-1 : \n",
      " love lunchbox age anytim get veggi fruit withot battl win win first time buy groceri item amazon cant find flavor local store area buy side note pretti sure can ill repost wrong\n",
      "\n",
      "Review-2 : \n",
      " winni pooh slueth collect wonder contain hard find charact pez collector great buy durabl fun pez charact tasti candi well worth cash mine mail quick arriv perfect\n",
      "\n",
      "Review-3 : \n",
      " absolut favorit pretzel get soft stay fresh wish could bought store though\n",
      "\n"
     ]
    }
   ],
   "source": [
    "# Three Reviews of cluster 2\n",
    "for i in range(3):\n",
    "    print('Review-%d : \\n %s\\n'%(i+1,cluster2[i]))"
   ]
  },
  {
   "cell_type": "code",
   "execution_count": 30,
   "metadata": {},
   "outputs": [
    {
     "name": "stdout",
     "output_type": "stream",
     "text": [
      "Review-1 : \n",
      " think residu actual crema though heavi espresso shot crema flavor aromat froth made air bubbl combin coffe solubl oil strong presenc crema indic qualiti coffe crema help give espresso fuller flavor longer aftertast drip coffe excel coffe crema make better\n",
      "\n",
      "Review-2 : \n",
      " wife love ice coffe total happi one expect never bad coffe green mountain\n",
      "\n",
      "Review-3 : \n",
      " rather pleasant tast dissolv well clump great tast drink low calori that bitter aftertast\n",
      "\n"
     ]
    }
   ],
   "source": [
    "# Three Reviews of cluster 3\n",
    "for i in range(3):\n",
    "    print('Review-%d : \\n %s\\n'%(i+1,cluster3[i]))"
   ]
  },
  {
   "cell_type": "code",
   "execution_count": 31,
   "metadata": {},
   "outputs": [
    {
     "name": "stdout",
     "output_type": "stream",
     "text": [
      "Review-1 : \n",
      " realli enjoy ramen soup although other describ flavor bland found refresh light review suggest one could add tofu veggi make meal\n",
      "\n",
      "Review-2 : \n",
      " found base orient supermarket best base buy sodium compar knorr sodium totol excel knorr good way salti want great chicken flavor use brand never comment want share experi bought everi kind soup base tie get totol flavor buy stuff orient super market must huge one\n",
      "\n",
      "Review-3 : \n",
      " sweet eater prefer starchi salti thing snack crave littl someth sweet everi littl pack sweet good choic small pack sweet thing eat recent ive gone eat dont realli eat type food prefac review everyon clear isnt normal type food judg rate rate might affect fact usual dont eat process food daughter bought two box cinnamon brown sugar two flavor realli love limit sweet let one sweet sweet way sweet someon like sweet would imagin perfect amount sweet realli like crispi flaki nice softish outer shell pastri nice crisp brittl make crunchi flavor like thin crispi pop tart like good stuff pop tart without excess pastri pop tart dont like love crisp bff tri chocol one said good didnt powder fake chocol tast chocol product like crispi your sweet eater small littl treat probabl go perfect littl snack item bring eat one packag two small stick bar interior packag might fit well diet plan howev good paleo diet older kid teenag probabl great slight healthier substitut pop tart\n",
      "\n"
     ]
    }
   ],
   "source": [
    "# Three Reviews of cluster 4\n",
    "for i in range(3):\n",
    "    print('Review-%d : \\n %s\\n'%(i+1,cluster4[i]))"
   ]
  },
  {
   "cell_type": "markdown",
   "metadata": {},
   "source": [
    "# Kmedoids implementation"
   ]
  },
  {
   "cell_type": "code",
   "execution_count": 33,
   "metadata": {},
   "outputs": [
    {
     "name": "stdout",
     "output_type": "stream",
     "text": [
      "No. of reviews in Cluster-1 :  1805\n",
      "\n",
      "No. of reviews in Cluster-2 :  1360\n",
      "\n",
      "No. of reviews in Cluster-3 :  160\n",
      "\n",
      "No. of reviews in Cluster-4 :  675\n"
     ]
    }
   ],
   "source": [
    "from sklearn.metrics.pairwise import pairwise_distances\n",
    "import kmedoids\n",
    "\n",
    "# distance matrix\n",
    "X_train_avgw2v_k=X_train_avgw2v[0:4000]\n",
    "D = pairwise_distances(X_train_avgw2v_k, metric='euclidean')\n",
    "\n",
    "# split into 4 clusters\n",
    "M, C = kmedoids.kMedoids(D, optimal_k)\n",
    "\n",
    "# Getting the reviews in all clusters\n",
    "cluster1 = []\n",
    "cluster2 = []\n",
    "cluster3 = []\n",
    "cluster4 = []\n",
    "\n",
    "for label in C:\n",
    "    for index in C[label]:\n",
    "        if label == 0 :\n",
    "            cluster1.append(X_train[index])  \n",
    "        elif label == 1:\n",
    "            cluster2.append(X_train[index])\n",
    "        elif label == 2:\n",
    "            cluster3.append(X_train[index])\n",
    "        else :\n",
    "            cluster4.append(X_train[index])\n",
    "\n",
    "# Number of reviews in different clusters\n",
    "print(\"No. of reviews in Cluster-1 : \",len(cluster1))\n",
    "print(\"\\nNo. of reviews in Cluster-2 : \",len(cluster2))\n",
    "print(\"\\nNo. of reviews in Cluster-3 : \",len(cluster3))\n",
    "print(\"\\nNo. of reviews in Cluster-4 : \",len(cluster4))"
   ]
  },
  {
   "cell_type": "code",
   "execution_count": 34,
   "metadata": {},
   "outputs": [
    {
     "name": "stdout",
     "output_type": "stream",
     "text": [
      "Review-1 : \n",
      " realli enjoy ramen soup although other describ flavor bland found refresh light review suggest one could add tofu veggi make meal\n",
      "\n",
      "Review-2 : \n",
      " absolut favorit pretzel get soft stay fresh wish could bought store though\n",
      "\n",
      "Review-3 : \n",
      " suffer sever cramp run long distanc noth tri would help cramp sinc use product mix gatorad powerad overpow sweat lot salt that expect cramp problem due salti sweater product work\n",
      "\n"
     ]
    }
   ],
   "source": [
    "# Some Reviews of cluster 1\n",
    "for i in range(3):\n",
    "    print('Review-%d : \\n %s\\n'%(i+1,cluster1[i]))"
   ]
  },
  {
   "cell_type": "code",
   "execution_count": 35,
   "metadata": {},
   "outputs": [
    {
     "name": "stdout",
     "output_type": "stream",
     "text": [
      "Review-1 : \n",
      " found base orient supermarket best base buy sodium compar knorr sodium totol excel knorr good way salti want great chicken flavor use brand never comment want share experi bought everi kind soup base tie get totol flavor buy stuff orient super market must huge one\n",
      "\n",
      "Review-2 : \n",
      " love lunchbox age anytim get veggi fruit withot battl win win first time buy groceri item amazon cant find flavor local store area buy side note pretti sure can ill repost wrong\n",
      "\n",
      "Review-3 : \n",
      " winni pooh slueth collect wonder contain hard find charact pez collector great buy durabl fun pez charact tasti candi well worth cash mine mail quick arriv perfect\n",
      "\n"
     ]
    }
   ],
   "source": [
    "# Some Reviews of cluster 2\n",
    "for i in range(3):\n",
    "    print('Review-%d : \\n %s\\n'%(i+1,cluster2[i]))"
   ]
  },
  {
   "cell_type": "code",
   "execution_count": 36,
   "metadata": {},
   "outputs": [
    {
     "name": "stdout",
     "output_type": "stream",
     "text": [
      "Review-1 : \n",
      " rather pleasant tast dissolv well clump great tast drink low calori that bitter aftertast\n",
      "\n",
      "Review-2 : \n",
      " love soursop tea anoth name graviola look place buy real black tea oppos fruit herbal tea touch soursop accent similar bergamot earl grey sens still real black tea touch flavor effect someth overpow artifici price pretti good well even ebay item seem expens\n",
      "\n",
      "Review-3 : \n",
      " genmai cha green sencha tea mix toast rice that tast well like drink mild green tea mix strong popcorn rice tast smell fragrant strong overpow tast new uppiti tea critic best ive tri far ive spent far far far less certain wouldnt want green tea rice drown subtler flavor definit must surpris fresh qualiti tea price point\n",
      "\n"
     ]
    }
   ],
   "source": [
    "# Some Reviews of cluster 3\n",
    "for i in range(3):\n",
    "    print('Review-%d : \\n %s\\n'%(i+1,cluster3[i]))"
   ]
  },
  {
   "cell_type": "code",
   "execution_count": 37,
   "metadata": {},
   "outputs": [
    {
     "name": "stdout",
     "output_type": "stream",
     "text": [
      "Review-1 : \n",
      " think residu actual crema though heavi espresso shot crema flavor aromat froth made air bubbl combin coffe solubl oil strong presenc crema indic qualiti coffe crema help give espresso fuller flavor longer aftertast drip coffe excel coffe crema make better\n",
      "\n",
      "Review-2 : \n",
      " wife love ice coffe total happi one expect never bad coffe green mountain\n",
      "\n",
      "Review-3 : \n",
      " hard find flavor decaf great combo delici love still enjoy coffe without caffein great product\n",
      "\n"
     ]
    }
   ],
   "source": [
    "# Some Reviews of cluster 4\n",
    "for i in range(3):\n",
    "    print('Review-%d : \\n %s\\n'%(i+1,cluster4[i]))"
   ]
  },
  {
   "cell_type": "markdown",
   "metadata": {},
   "source": [
    "# tf-idfw2v"
   ]
  },
  {
   "cell_type": "code",
   "execution_count": 38,
   "metadata": {},
   "outputs": [],
   "source": [
    "X_train_tfidfw2v = []\n",
    "with open(\"X_train_tfidfw2v.txt\", \"r\") as f:\n",
    "    str1 = ''\n",
    "    for line in f:\n",
    "        if(']' in line):\n",
    "            str1 = str1+line\n",
    "            len1 = len(str1)\n",
    "            X_train_tfidfw2v.append(list(np.float64(x) for x in str1[1:len1-1].strip(']').split()))\n",
    "            str1 = ''\n",
    "        else :\n",
    "            str1 = str1+line\n",
    "            "
   ]
  },
  {
   "cell_type": "markdown",
   "metadata": {},
   "source": [
    "# KMeans implementation"
   ]
  },
  {
   "cell_type": "code",
   "execution_count": 39,
   "metadata": {},
   "outputs": [],
   "source": [
    "from sklearn.cluster import KMeans\n",
    "\n",
    "cluster_values=[2,3,4,5,6,7,8,9]\n",
    "\n",
    "loss_data=[]\n",
    "\n",
    "for i in cluster_values:\n",
    "    kmeans = KMeans(n_clusters=i,n_jobs=-1).fit(X_train_tfidfw2v)\n",
    "    loss_data.append(kmeans.inertia_)"
   ]
  },
  {
   "cell_type": "markdown",
   "metadata": {},
   "source": [
    "# Elbow or Knee method"
   ]
  },
  {
   "cell_type": "code",
   "execution_count": 40,
   "metadata": {},
   "outputs": [
    {
     "data": {
      "image/png": "[encoded data removed]",
      "text/plain": [
       "<Figure size 432x288 with 1 Axes>"
      ]
     },
     "metadata": {},
     "output_type": "display_data"
    }
   ],
   "source": [
    "import matplotlib.pyplot as plt\n",
    "\n",
    "# Draw Loss VS cluster values plot\n",
    "plt.plot(cluster_values, loss_data)\n",
    "plt.xlabel('Cluster-values',size=14)\n",
    "plt.ylabel('Loss',size=14)\n",
    "plt.title('Loss VS Cluster-values Plot\\n',size=18)\n",
    "plt.grid()\n",
    "plt.show()"
   ]
  },
  {
   "cell_type": "markdown",
   "metadata": {},
   "source": [
    "Observation: From the above plot we can see that there is inflection at k=4 before this point loss was decreasing faster as compared to the loss decreasing after it. so the best value of k=4"
   ]
  },
  {
   "cell_type": "code",
   "execution_count": 41,
   "metadata": {},
   "outputs": [],
   "source": [
    "optimal_k=4\n",
    "\n",
    "kmeans = KMeans(n_clusters=optimal_k,n_jobs=-1).fit(X_train_tfidfw2v)"
   ]
  },
  {
   "cell_type": "code",
   "execution_count": 42,
   "metadata": {},
   "outputs": [
    {
     "name": "stdout",
     "output_type": "stream",
     "text": [
      "No. of reviews in Cluster-1 :  15074\n",
      "\n",
      "No. of reviews in Cluster-2 :  5157\n",
      "\n",
      "No. of reviews in Cluster-3 :  5842\n",
      "\n",
      "No. of reviews in Cluster-4 :  15927\n"
     ]
    }
   ],
   "source": [
    "# taking all the reviews in different clusters\n",
    "cluster1 = []\n",
    "cluster2 = []\n",
    "cluster3 = []\n",
    "cluster4 = []\n",
    "\n",
    "for i in range(kmeans.labels_.shape[0]):\n",
    "    if kmeans.labels_[i] == 0:\n",
    "        cluster1.append(X_train[i])\n",
    "    elif kmeans.labels_[i] == 1:\n",
    "        cluster2.append(X_train[i])\n",
    "    elif kmeans.labels_[i] == 2:\n",
    "        cluster3.append(X_train[i])\n",
    "    else :\n",
    "        cluster4.append(X_train[i])\n",
    "        \n",
    "# Number of reviews in different clusters\n",
    "print(\"No. of reviews in Cluster-1 : \",len(cluster1))\n",
    "print(\"\\nNo. of reviews in Cluster-2 : \",len(cluster2))\n",
    "print(\"\\nNo. of reviews in Cluster-3 : \",len(cluster3))\n",
    "print(\"\\nNo. of reviews in Cluster-4 : \",len(cluster4))"
   ]
  },
  {
   "cell_type": "code",
   "execution_count": 43,
   "metadata": {},
   "outputs": [
    {
     "name": "stdout",
     "output_type": "stream",
     "text": [
      "Review-1 : \n",
      " love lunchbox age anytim get veggi fruit withot battl win win first time buy groceri item amazon cant find flavor local store area buy side note pretti sure can ill repost wrong\n",
      "\n",
      "Review-2 : \n",
      " winni pooh slueth collect wonder contain hard find charact pez collector great buy durabl fun pez charact tasti candi well worth cash mine mail quick arriv perfect\n",
      "\n",
      "Review-3 : \n",
      " absolut favorit pretzel get soft stay fresh wish could bought store though\n",
      "\n"
     ]
    }
   ],
   "source": [
    "# Three Reviews of cluster 1\n",
    "for i in range(3):\n",
    "    print('Review-%d : \\n %s\\n'%(i+1,cluster1[i]))"
   ]
  },
  {
   "cell_type": "code",
   "execution_count": 44,
   "metadata": {},
   "outputs": [
    {
     "name": "stdout",
     "output_type": "stream",
     "text": [
      "Review-1 : \n",
      " three dog love chicken breast wrap liver littl one chihuahua mix turn nose food treat actual eat treat fact addit free rang anim make feel better meal day\n",
      "\n",
      "Review-2 : \n",
      " neighbor gave can cat love ate time drank broth donat remain can local anim shelter\n",
      "\n",
      "Review-3 : \n",
      " problem vendor ship cat use love product look forward get night got home work would say beaver would come run wait dish last batch dri cat wont eat even bought local pet food store found problem talk pet food store owner said lot complaint wont buy product wonder chang manufactur local pet food store owner said compani difficult deal probabl wasnt worth time complain unrespons mayb theyll care qualiti peopl stop buy product\n",
      "\n"
     ]
    }
   ],
   "source": [
    "# Three Reviews of cluster 2\n",
    "for i in range(3):\n",
    "    print('Review-%d : \\n %s\\n'%(i+1,cluster2[i]))"
   ]
  },
  {
   "cell_type": "code",
   "execution_count": 45,
   "metadata": {},
   "outputs": [
    {
     "name": "stdout",
     "output_type": "stream",
     "text": [
      "Review-1 : \n",
      " think residu actual crema though heavi espresso shot crema flavor aromat froth made air bubbl combin coffe solubl oil strong presenc crema indic qualiti coffe crema help give espresso fuller flavor longer aftertast drip coffe excel coffe crema make better\n",
      "\n",
      "Review-2 : \n",
      " wife love ice coffe total happi one expect never bad coffe green mountain\n",
      "\n",
      "Review-3 : \n",
      " hard find flavor decaf great combo delici love still enjoy coffe without caffein great product\n",
      "\n"
     ]
    }
   ],
   "source": [
    "# Three Reviews of cluster 3\n",
    "for i in range(3):\n",
    "    print('Review-%d : \\n %s\\n'%(i+1,cluster3[i]))"
   ]
  },
  {
   "cell_type": "code",
   "execution_count": 46,
   "metadata": {},
   "outputs": [
    {
     "name": "stdout",
     "output_type": "stream",
     "text": [
      "Review-1 : \n",
      " realli enjoy ramen soup although other describ flavor bland found refresh light review suggest one could add tofu veggi make meal\n",
      "\n",
      "Review-2 : \n",
      " found base orient supermarket best base buy sodium compar knorr sodium totol excel knorr good way salti want great chicken flavor use brand never comment want share experi bought everi kind soup base tie get totol flavor buy stuff orient super market must huge one\n",
      "\n",
      "Review-3 : \n",
      " sweet eater prefer starchi salti thing snack crave littl someth sweet everi littl pack sweet good choic small pack sweet thing eat recent ive gone eat dont realli eat type food prefac review everyon clear isnt normal type food judg rate rate might affect fact usual dont eat process food daughter bought two box cinnamon brown sugar two flavor realli love limit sweet let one sweet sweet way sweet someon like sweet would imagin perfect amount sweet realli like crispi flaki nice softish outer shell pastri nice crisp brittl make crunchi flavor like thin crispi pop tart like good stuff pop tart without excess pastri pop tart dont like love crisp bff tri chocol one said good didnt powder fake chocol tast chocol product like crispi your sweet eater small littl treat probabl go perfect littl snack item bring eat one packag two small stick bar interior packag might fit well diet plan howev good paleo diet older kid teenag probabl great slight healthier substitut pop tart\n",
      "\n"
     ]
    }
   ],
   "source": [
    "# Three Reviews of cluster 4\n",
    "for i in range(3):\n",
    "    print('Review-%d : \\n %s\\n'%(i+1,cluster4[i]))"
   ]
  },
  {
   "cell_type": "markdown",
   "metadata": {},
   "source": [
    "# KMedoids implementation"
   ]
  },
  {
   "cell_type": "code",
   "execution_count": 48,
   "metadata": {},
   "outputs": [
    {
     "name": "stdout",
     "output_type": "stream",
     "text": [
      "No. of reviews in Cluster-1 :  323\n",
      "\n",
      "No. of reviews in Cluster-2 :  1391\n",
      "\n",
      "No. of reviews in Cluster-3 :  630\n",
      "\n",
      "No. of reviews in Cluster-4 :  1656\n"
     ]
    }
   ],
   "source": [
    "from sklearn.metrics.pairwise import pairwise_distances\n",
    "import kmedoids\n",
    "\n",
    "# distance matrix\n",
    "X_train_tfidfw2v_k=X_train_tfidfw2v[0:4000]\n",
    "D = pairwise_distances(X_train_tfidfw2v_k, metric='euclidean')\n",
    "\n",
    "# split into 4 clusters\n",
    "M, C = kmedoids.kMedoids(D, optimal_k)\n",
    "\n",
    "# Getting the reviews in all clusters\n",
    "cluster1 = []\n",
    "cluster2 = []\n",
    "cluster3 = []\n",
    "cluster4 = []\n",
    "\n",
    "for label in C:\n",
    "    for index in C[label]:\n",
    "        if label == 0 :\n",
    "            cluster1.append(X_train[index])  \n",
    "        elif label == 1:\n",
    "            cluster2.append(X_train[index])\n",
    "        elif label == 2:\n",
    "            cluster3.append(X_train[index])\n",
    "        else :\n",
    "            cluster4.append(X_train[index])\n",
    "\n",
    "# Number of reviews in different clusters\n",
    "print(\"No. of reviews in Cluster-1 : \",len(cluster1))\n",
    "print(\"\\nNo. of reviews in Cluster-2 : \",len(cluster2))\n",
    "print(\"\\nNo. of reviews in Cluster-3 : \",len(cluster3))\n",
    "print(\"\\nNo. of reviews in Cluster-4 : \",len(cluster4))"
   ]
  },
  {
   "cell_type": "code",
   "execution_count": 49,
   "metadata": {},
   "outputs": [
    {
     "name": "stdout",
     "output_type": "stream",
     "text": [
      "Review-1 : \n",
      " great price consist high qualiti product pod plump flavor quit fresh compar brand packag cardamom frontier best sad ive even purchas amazon vendor advertis frontier brand cardamom pod receiv cheaper lower qualiti brand like spici world ill purchas amazon direct ill stay happi\n",
      "\n",
      "Review-2 : \n",
      " wife thought nut order lbs tast wonder order enough seed perfect comment ship charg compani high tri lower ship cost competit\n",
      "\n",
      "Review-3 : \n",
      " problem vendor ship cat use love product look forward get night got home work would say beaver would come run wait dish last batch dri cat wont eat even bought local pet food store found problem talk pet food store owner said lot complaint wont buy product wonder chang manufactur local pet food store owner said compani difficult deal probabl wasnt worth time complain unrespons mayb theyll care qualiti peopl stop buy product\n",
      "\n"
     ]
    }
   ],
   "source": [
    "# Some Reviews of cluster 1\n",
    "for i in range(3):\n",
    "    print('Review-%d : \\n %s\\n'%(i+1,cluster1[i]))"
   ]
  },
  {
   "cell_type": "code",
   "execution_count": 50,
   "metadata": {},
   "outputs": [
    {
     "name": "stdout",
     "output_type": "stream",
     "text": [
      "Review-1 : \n",
      " sweet eater prefer starchi salti thing snack crave littl someth sweet everi littl pack sweet good choic small pack sweet thing eat recent ive gone eat dont realli eat type food prefac review everyon clear isnt normal type food judg rate rate might affect fact usual dont eat process food daughter bought two box cinnamon brown sugar two flavor realli love limit sweet let one sweet sweet way sweet someon like sweet would imagin perfect amount sweet realli like crispi flaki nice softish outer shell pastri nice crisp brittl make crunchi flavor like thin crispi pop tart like good stuff pop tart without excess pastri pop tart dont like love crisp bff tri chocol one said good didnt powder fake chocol tast chocol product like crispi your sweet eater small littl treat probabl go perfect littl snack item bring eat one packag two small stick bar interior packag might fit well diet plan howev good paleo diet older kid teenag probabl great slight healthier substitut pop tart\n",
      "\n",
      "Review-2 : \n",
      " think residu actual crema though heavi espresso shot crema flavor aromat froth made air bubbl combin coffe solubl oil strong presenc crema indic qualiti coffe crema help give espresso fuller flavor longer aftertast drip coffe excel coffe crema make better\n",
      "\n",
      "Review-3 : \n",
      " wife love ice coffe total happi one expect never bad coffe green mountain\n",
      "\n"
     ]
    }
   ],
   "source": [
    "# Some Reviews of cluster 2\n",
    "for i in range(3):\n",
    "    print('Review-%d : \\n %s\\n'%(i+1,cluster2[i]))"
   ]
  },
  {
   "cell_type": "code",
   "execution_count": 51,
   "metadata": {},
   "outputs": [
    {
     "name": "stdout",
     "output_type": "stream",
     "text": [
      "Review-1 : \n",
      " realli enjoy ramen soup although other describ flavor bland found refresh light review suggest one could add tofu veggi make meal\n",
      "\n",
      "Review-2 : \n",
      " found base orient supermarket best base buy sodium compar knorr sodium totol excel knorr good way salti want great chicken flavor use brand never comment want share experi bought everi kind soup base tie get totol flavor buy stuff orient super market must huge one\n",
      "\n",
      "Review-3 : \n",
      " love use natur altern sugar sucan winner use bake sugar brown sugar substitut wonder result\n",
      "\n"
     ]
    }
   ],
   "source": [
    "# Some Reviews of cluster 3\n",
    "for i in range(3):\n",
    "    print('Review-%d : \\n %s\\n'%(i+1,cluster3[i]))"
   ]
  },
  {
   "cell_type": "code",
   "execution_count": 52,
   "metadata": {},
   "outputs": [
    {
     "name": "stdout",
     "output_type": "stream",
     "text": [
      "Review-1 : \n",
      " love lunchbox age anytim get veggi fruit withot battl win win first time buy groceri item amazon cant find flavor local store area buy side note pretti sure can ill repost wrong\n",
      "\n",
      "Review-2 : \n",
      " winni pooh slueth collect wonder contain hard find charact pez collector great buy durabl fun pez charact tasti candi well worth cash mine mail quick arriv perfect\n",
      "\n",
      "Review-3 : \n",
      " absolut favorit pretzel get soft stay fresh wish could bought store though\n",
      "\n"
     ]
    }
   ],
   "source": [
    "# Some Reviews of cluster 4\n",
    "for i in range(3):\n",
    "    print('Review-%d : \\n %s\\n'%(i+1,cluster4[i]))"
   ]
  },
  {
   "cell_type": "markdown",
   "metadata": {},
   "source": [
    "# Conclusion:-"
   ]
  },
  {
   "cell_type": "markdown",
   "metadata": {},
   "source": [
    "# Procedure followed:-"
   ]
  },
  {
   "cell_type": "markdown",
   "metadata": {},
   "source": [
    "STEP 1 :- Fetch the preprocess Text/Review data from saved files\n",
    "\n",
    "STEP 2 :- Fetch the BOW vectorize data from saved files\n",
    "\n",
    "STEP 3:- Implementing KMeans++ Clustering and KMedoids for BOW\n",
    "\n",
    "STEP 4:- Reading reviews manually for both algorithm KMeans++ and KMedoids\n",
    "\n",
    "STEP 5:- We did it for BOW,TF-IDF,AVGW2V AND TF-IDFW2V"
   ]
  }
 ],
 "metadata": {
  "kernelspec": {
   "display_name": "Python 3",
   "language": "python",
   "name": "python3"
  },
  "language_info": {
   "codemirror_mode": {
    "name": "ipython",
    "version": 3
   },
   "file_extension": ".py",
   "mimetype": "text/x-python",
   "name": "python",
   "nbconvert_exporter": "python",
   "pygments_lexer": "ipython3",
   "version": "3.6.5"
  }
 },
 "nbformat": 4,
 "nbformat_minor": 2
}
