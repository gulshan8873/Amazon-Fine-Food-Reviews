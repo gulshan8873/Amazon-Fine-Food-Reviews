{
 "cells": [
  {
   "cell_type": "markdown",
   "metadata": {},
   "source": [
    "# Apply Hierarchical Clustering on Amazon fine food reviews"
   ]
  },
  {
   "cell_type": "markdown",
   "metadata": {},
   "source": [
    "# Bag Of Words(BOW)"
   ]
  },
  {
   "cell_type": "code",
   "execution_count": 1,
   "metadata": {},
   "outputs": [],
   "source": [
    "#loading data from files\n",
    "from scipy import sparse\n",
    "\n",
    "X_train_BOW = sparse.load_npz(\"X_train_BOW.npz\")\n",
    "X_train_BOW=X_train_BOW[0:5000,:]\n"
   ]
  },
  {
   "cell_type": "code",
   "execution_count": 2,
   "metadata": {},
   "outputs": [],
   "source": [
    "# Text/Review data\n",
    "import numpy as np \n",
    "X_train=np.load('X_train_data.npy')\n",
    "X_train=X_train[0:5000]"
   ]
  },
  {
   "cell_type": "markdown",
   "metadata": {},
   "source": [
    "# Hierarchical Clustering with 2 Clusters"
   ]
  },
  {
   "cell_type": "code",
   "execution_count": 3,
   "metadata": {},
   "outputs": [
    {
     "name": "stdout",
     "output_type": "stream",
     "text": [
      "No. of reviews in Cluster-1 :  4778\n",
      "\n",
      "No. of reviews in Cluster-2 :  222\n"
     ]
    }
   ],
   "source": [
    "from sklearn.cluster import AgglomerativeClustering\n",
    "Data=X_train_BOW.toarray()\n",
    "# cluster=2 by default\n",
    "clustering = AgglomerativeClustering().fit(Data)\n",
    "\n",
    "cluster1=[]\n",
    "cluster2=[]\n",
    "n=clustering.labels_.shape[0]\n",
    "\n",
    "for index in range(n):\n",
    "    if clustering.labels_[index]==0:\n",
    "        cluster1.append(X_train[index])\n",
    "    else :\n",
    "        cluster2.append(X_train[index])\n",
    "\n",
    "# Number of reviews in different clusters\n",
    "print(\"No. of reviews in Cluster-1 : \",len(cluster1))\n",
    "print(\"\\nNo. of reviews in Cluster-2 : \",len(cluster2))"
   ]
  },
  {
   "cell_type": "markdown",
   "metadata": {},
   "source": [
    "Reading Reviews Manually"
   ]
  },
  {
   "cell_type": "code",
   "execution_count": 4,
   "metadata": {},
   "outputs": [
    {
     "name": "stdout",
     "output_type": "stream",
     "text": [
      "Review - 1 \n",
      " ive eaten crown princ sardin tomato past leas yrs tri brand avail product deliv well box time ron\n",
      "Review - 2 \n",
      " cant say anyth qualiti tast textur touch smell substanc general qualiti product unfortun found order receiv product manufactur facil use tree nut soy appreci fact manufactur mention packag would help great inform note product inform page check amazon page mention incred import inform without famili member suffer peanut tree nut allergi mani live challeng steer clear product would also hesit purchas product manufactur without first verifi product manufactur facil use tree nut wait check websit there singl refer allergen gluten product actual seem rather ampl offer product good littl allergi last dont expect everi product free peanut tree nut expect manufactur make known ingredi product use facil ingredi use product unfortun bob red mill done neither websit product page amazon could return product anoth box origin one alreadi thrown much troubl hassl thank bob\n",
      "Review - 3 \n",
      " spot local gourmet suppli shopp never heard wild oliv oil came home research first thing found line oliv oil use exclus one world best restaur celler roca michelin star girona spain proprietor celebr joan roca got attent found compani websit amaz detail process harvest process wild organ oliv wild organ oliv oil come point spain largest river ebro flow catalonia number artifici lake creat last centuri generat electr arid slope metr high near villag riba roja debr grow numer stubbi arbequina oliv tree small contort often old uniqu advantag altitud incid infam white fli dacus olei present big challeng organ oliv farmer lower altitud mean solivera grow certifi oliv without use pesticid harvest wild organ oliv oil press one last remain tradit stone mill spain oliv ground huge granit wheel press pile round straw mat oil decant graviti larg masonri cistern arm inform could gather went back shopp bought bottl amaz stuff along fresh french bread made beelin home say god olympus must sure bottl dine tabl good light earthi medium bodi full flavor fruiti great dip salad finish price reason ive alway fan spanish oliv oil even attach thank wonder peopl solivera dot com great background inform amaz gift culinari world pit\n"
     ]
    }
   ],
   "source": [
    "# some reviews of cluster1\n",
    "for i in range(3):\n",
    "    print('Review -',i+1,\"\\n\",cluster1[i])"
   ]
  },
  {
   "cell_type": "code",
   "execution_count": 5,
   "metadata": {},
   "outputs": [
    {
     "name": "stdout",
     "output_type": "stream",
     "text": [
      "Review - 1 \n",
      " ive spent lot year drink diet drink get better shape cut sugar realiz carbon diet drink tend make stomach burn feel similar hunger convert drink find lot easier avoid snack drink doesnt make feel like reach snack ive diet green tea youv lipton lemon entir differ calori free slight honey tast made splenda dont high acid aftertast ive diet green tea doesnt tast like regular tea doesnt telltal green tea tast other drink stuff help satiat thirst curb hunger problem solv\n",
      "Review - 2 \n",
      " select item price per unit got qualiti bigelow tea accustom satisfi custom\n",
      "Review - 3 \n",
      " whenev steak wife love get steak sauc right zing steak sauc use tend use spicier sauc hotter flavor sauc like tradit favor even get use\n"
     ]
    }
   ],
   "source": [
    "# some reviews of cluster2\n",
    "for i in range(3):\n",
    "    print('Review -',i+1,\"\\n\",cluster2[i])"
   ]
  },
  {
   "cell_type": "markdown",
   "metadata": {},
   "source": [
    "# Hierarchical clustering with 5 cluster"
   ]
  },
  {
   "cell_type": "code",
   "execution_count": 6,
   "metadata": {},
   "outputs": [
    {
     "name": "stdout",
     "output_type": "stream",
     "text": [
      "No. of reviews in Cluster-1 :  741\n",
      "\n",
      "No. of reviews in Cluster-2 :  222\n",
      "\n",
      "No. of reviews in Cluster-3 :  219\n",
      "\n",
      "No. of reviews in Cluster-4 :  96\n",
      "\n",
      "No. of reviews in Cluster-5 :  3722\n"
     ]
    }
   ],
   "source": [
    "from sklearn.cluster import AgglomerativeClustering\n",
    "Data=X_train_BOW.toarray()\n",
    "# cluster=5\n",
    "clustering = AgglomerativeClustering(n_clusters=5).fit(Data)\n",
    "\n",
    "cluster1=[]\n",
    "cluster2=[]\n",
    "cluster3=[]\n",
    "cluster4=[]\n",
    "cluster5=[]\n",
    "\n",
    "n=clustering.labels_.shape[0]\n",
    "\n",
    "for index in range(n):\n",
    "    if clustering.labels_[index]==0:\n",
    "        cluster1.append(X_train[index])\n",
    "    elif clustering.labels_[index]==1:\n",
    "        cluster2.append(X_train[index])\n",
    "    elif clustering.labels_[index]==2:\n",
    "        cluster3.append(X_train[index])\n",
    "    elif clustering.labels_[index]==3:\n",
    "        cluster4.append(X_train[index])\n",
    "    else :\n",
    "        cluster5.append(X_train[index])\n",
    "              \n",
    "# Number of reviews in different clusters\n",
    "print(\"No. of reviews in Cluster-1 : \",len(cluster1))\n",
    "print(\"\\nNo. of reviews in Cluster-2 : \",len(cluster2))\n",
    "print(\"\\nNo. of reviews in Cluster-3 : \",len(cluster3))\n",
    "print(\"\\nNo. of reviews in Cluster-4 : \",len(cluster4))\n",
    "print(\"\\nNo. of reviews in Cluster-5 : \",len(cluster5))"
   ]
  },
  {
   "cell_type": "markdown",
   "metadata": {},
   "source": [
    "Reading Reviews Manually"
   ]
  },
  {
   "cell_type": "code",
   "execution_count": 7,
   "metadata": {},
   "outputs": [
    {
     "name": "stdout",
     "output_type": "stream",
     "text": [
      "Review - 1 \n",
      " delici whole famili love yet difficult find local store sodium serv whole wheat make bit healthier averag cracker hint salt triscuit excel wheat thin particular favorit hous stock may find disappear quick\n",
      "Review - 2 \n",
      " interstiti cystiti unabl chocol depress tri find chocol substitut noth seem give chocol fix found wonder product chatfield carob powder closest thing tast chocol believ tri mani mani brand favorit recip far includ carob latt recip back browni carob cooki husband picki said wouldnt told carob would never known unabl eat chocol want healthier version high recommend\n",
      "Review - 3 \n",
      " stuff terribl dont think sugar free margarita tast like made gatorad appreci review need sugar free high mark led buy think good\n"
     ]
    }
   ],
   "source": [
    "# some reviews of cluster1\n",
    "for i in range(3):\n",
    "    print('Review -',i+1,\"\\n\",cluster1[i])"
   ]
  },
  {
   "cell_type": "code",
   "execution_count": 8,
   "metadata": {},
   "outputs": [
    {
     "name": "stdout",
     "output_type": "stream",
     "text": [
      "Review - 1 \n",
      " ive spent lot year drink diet drink get better shape cut sugar realiz carbon diet drink tend make stomach burn feel similar hunger convert drink find lot easier avoid snack drink doesnt make feel like reach snack ive diet green tea youv lipton lemon entir differ calori free slight honey tast made splenda dont high acid aftertast ive diet green tea doesnt tast like regular tea doesnt telltal green tea tast other drink stuff help satiat thirst curb hunger problem solv\n",
      "Review - 2 \n",
      " select item price per unit got qualiti bigelow tea accustom satisfi custom\n",
      "Review - 3 \n",
      " whenev steak wife love get steak sauc right zing steak sauc use tend use spicier sauc hotter flavor sauc like tradit favor even get use\n"
     ]
    }
   ],
   "source": [
    "# some reviews of cluster2\n",
    "for i in range(3):\n",
    "    print('Review -',i+1,\"\\n\",cluster2[i])"
   ]
  },
  {
   "cell_type": "code",
   "execution_count": 9,
   "metadata": {},
   "outputs": [
    {
     "name": "stdout",
     "output_type": "stream",
     "text": [
      "Review - 1 \n",
      " tasti chocol use seem like high qualiti provid perfect ad layer tast sweet confect melt mouth wow ever realli look like mushroom theyr quit impress way got substanti discount warehous deal otherwis theyr expens your got coin theyr worth\n",
      "Review - 2 \n",
      " dont like lot kitchen counter clutter happi find product read bunch review ahead time went ahead secur screw wouldnt anywher love thing much bought second one husband coffe holder design sleek love abl bunch differ flavor coffe right keurig without pile differ box counter one tip would like pass open close holder use front bar otherwis cockey close flat\n",
      "Review - 3 \n",
      " tea absolut wonder everi flavor assort delici cant seem pick one favorit also love mighti leaf tea organ detox infus herbal tea box pack order pack one keep box work use one lot eat lunch small tummi ach love stuff havent tri everi flavor yet look forward tri new flavor near futur enjoy\n"
     ]
    }
   ],
   "source": [
    "# some reviews of cluster3\n",
    "for i in range(3):\n",
    "    print('Review -',i+1,\"\\n\",cluster3[i])"
   ]
  },
  {
   "cell_type": "code",
   "execution_count": 10,
   "metadata": {},
   "outputs": [
    {
     "name": "stdout",
     "output_type": "stream",
     "text": [
      "Review - 1 \n",
      " bone last realli long time dog love dont get much dog love fill\n",
      "Review - 2 \n",
      " hard find spitz store area arent dill pickl flavor hubbi doesnt like found good price excit yummi\n",
      "Review - 3 \n",
      " qualiti flavor tea worth time price order sup prize origin purchas get tin new tea rack transfer price tea tin go wait use first\n"
     ]
    }
   ],
   "source": [
    "# some reviews of cluster4\n",
    "for i in range(3):\n",
    "    print('Review -',i+1,\"\\n\",cluster4[i])"
   ]
  },
  {
   "cell_type": "code",
   "execution_count": 11,
   "metadata": {},
   "outputs": [
    {
     "name": "stdout",
     "output_type": "stream",
     "text": [
      "Review - 1 \n",
      " ive eaten crown princ sardin tomato past leas yrs tri brand avail product deliv well box time ron\n",
      "Review - 2 \n",
      " cant say anyth qualiti tast textur touch smell substanc general qualiti product unfortun found order receiv product manufactur facil use tree nut soy appreci fact manufactur mention packag would help great inform note product inform page check amazon page mention incred import inform without famili member suffer peanut tree nut allergi mani live challeng steer clear product would also hesit purchas product manufactur without first verifi product manufactur facil use tree nut wait check websit there singl refer allergen gluten product actual seem rather ampl offer product good littl allergi last dont expect everi product free peanut tree nut expect manufactur make known ingredi product use facil ingredi use product unfortun bob red mill done neither websit product page amazon could return product anoth box origin one alreadi thrown much troubl hassl thank bob\n",
      "Review - 3 \n",
      " spot local gourmet suppli shopp never heard wild oliv oil came home research first thing found line oliv oil use exclus one world best restaur celler roca michelin star girona spain proprietor celebr joan roca got attent found compani websit amaz detail process harvest process wild organ oliv wild organ oliv oil come point spain largest river ebro flow catalonia number artifici lake creat last centuri generat electr arid slope metr high near villag riba roja debr grow numer stubbi arbequina oliv tree small contort often old uniqu advantag altitud incid infam white fli dacus olei present big challeng organ oliv farmer lower altitud mean solivera grow certifi oliv without use pesticid harvest wild organ oliv oil press one last remain tradit stone mill spain oliv ground huge granit wheel press pile round straw mat oil decant graviti larg masonri cistern arm inform could gather went back shopp bought bottl amaz stuff along fresh french bread made beelin home say god olympus must sure bottl dine tabl good light earthi medium bodi full flavor fruiti great dip salad finish price reason ive alway fan spanish oliv oil even attach thank wonder peopl solivera dot com great background inform amaz gift culinari world pit\n"
     ]
    }
   ],
   "source": [
    "# some reviews of cluster5\n",
    "for i in range(3):\n",
    "    print('Review -',i+1,\"\\n\",cluster5[i])"
   ]
  },
  {
   "cell_type": "markdown",
   "metadata": {},
   "source": [
    "# Hierarchical Cluster with 10 Cluster"
   ]
  },
  {
   "cell_type": "code",
   "execution_count": 13,
   "metadata": {},
   "outputs": [
    {
     "name": "stdout",
     "output_type": "stream",
     "text": [
      "No. of reviews in Cluster-1 :  216\n",
      "\n",
      "No. of reviews in Cluster-2 :  364\n",
      "\n",
      "No. of reviews in Cluster-3 :  3\n",
      "\n",
      "No. of reviews in Cluster-4 :  96\n",
      "\n",
      "No. of reviews in Cluster-5 :  3722\n",
      "No. of reviews in Cluster-6 :  374\n",
      "\n",
      "No. of reviews in Cluster-7 :  1\n",
      "\n",
      "No. of reviews in Cluster-8 :  206\n",
      "\n",
      "No. of reviews in Cluster-9 :  13\n",
      "\n",
      "No. of reviews in Cluster-10 :  5\n"
     ]
    }
   ],
   "source": [
    "from sklearn.cluster import AgglomerativeClustering\n",
    "Data=X_train_BOW.toarray()\n",
    "# cluster=10\n",
    "clustering = AgglomerativeClustering(n_clusters=10).fit(Data)\n",
    "\n",
    "cluster1=[]\n",
    "cluster2=[]\n",
    "cluster3=[]\n",
    "cluster4=[]\n",
    "cluster5=[]\n",
    "cluster6=[]\n",
    "cluster7=[]\n",
    "cluster8=[]\n",
    "cluster9=[]\n",
    "cluster10=[]\n",
    "\n",
    "n=clustering.labels_.shape[0]\n",
    "\n",
    "for index in range(n):\n",
    "    if clustering.labels_[index]==0:\n",
    "        cluster1.append(X_train[index])\n",
    "    elif clustering.labels_[index]==1:\n",
    "        cluster2.append(X_train[index])\n",
    "    elif clustering.labels_[index]==2:\n",
    "        cluster3.append(X_train[index])\n",
    "    elif clustering.labels_[index]==3:\n",
    "        cluster4.append(X_train[index])\n",
    "    elif clustering.labels_[index]==4:\n",
    "        cluster5.append(X_train[index])\n",
    "    elif clustering.labels_[index]==5:\n",
    "        cluster6.append(X_train[index])\n",
    "    elif clustering.labels_[index]==6:\n",
    "        cluster7.append(X_train[index])\n",
    "    elif clustering.labels_[index]==7:\n",
    "        cluster8.append(X_train[index])\n",
    "    elif clustering.labels_[index]==8:\n",
    "        cluster9.append(X_train[index])\n",
    "    else :\n",
    "        cluster10.append(X_train[index])\n",
    "              \n",
    "# Number of reviews in different clusters\n",
    "print(\"No. of reviews in Cluster-1 : \",len(cluster1))\n",
    "print(\"\\nNo. of reviews in Cluster-2 : \",len(cluster2))\n",
    "print(\"\\nNo. of reviews in Cluster-3 : \",len(cluster3))\n",
    "print(\"\\nNo. of reviews in Cluster-4 : \",len(cluster4))\n",
    "print(\"\\nNo. of reviews in Cluster-5 : \",len(cluster5))\n",
    "print(\"No. of reviews in Cluster-6 : \", len(cluster6))\n",
    "print(\"\\nNo. of reviews in Cluster-7 : \",len(cluster7))\n",
    "print(\"\\nNo. of reviews in Cluster-8 : \",len(cluster8))\n",
    "print(\"\\nNo. of reviews in Cluster-9 : \",len(cluster9))\n",
    "print(\"\\nNo. of reviews in Cluster-10 : \",len(cluster10))"
   ]
  },
  {
   "cell_type": "markdown",
   "metadata": {},
   "source": [
    "Reading Reviews Manually"
   ]
  },
  {
   "cell_type": "code",
   "execution_count": 14,
   "metadata": {},
   "outputs": [
    {
     "name": "stdout",
     "output_type": "stream",
     "text": [
      "Review - 1 \n",
      " ive spent lot year drink diet drink get better shape cut sugar realiz carbon diet drink tend make stomach burn feel similar hunger convert drink find lot easier avoid snack drink doesnt make feel like reach snack ive diet green tea youv lipton lemon entir differ calori free slight honey tast made splenda dont high acid aftertast ive diet green tea doesnt tast like regular tea doesnt telltal green tea tast other drink stuff help satiat thirst curb hunger problem solv\n",
      "Review - 2 \n",
      " select item price per unit got qualiti bigelow tea accustom satisfi custom\n",
      "Review - 3 \n",
      " whenev steak wife love get steak sauc right zing steak sauc use tend use spicier sauc hotter flavor sauc like tradit favor even get use\n"
     ]
    }
   ],
   "source": [
    "# some reviews of cluster1\n",
    "for i in range(3):\n",
    "    print('Review -',i+1,\"\\n\",cluster1[i])"
   ]
  },
  {
   "cell_type": "code",
   "execution_count": 15,
   "metadata": {},
   "outputs": [
    {
     "name": "stdout",
     "output_type": "stream",
     "text": [
      "Review - 1 \n",
      " delici whole famili love yet difficult find local store sodium serv whole wheat make bit healthier averag cracker hint salt triscuit excel wheat thin particular favorit hous stock may find disappear quick\n",
      "Review - 2 \n",
      " love came well packag none broken melt chocol actual tast good fill chocol mouss bridal shower ador littl smaller expect perfect snack probabl easier smaller could fit whole thing mouth anyway less messi way\n",
      "Review - 3 \n",
      " got gift backet today dad father day tomorrow didnt think would get till next week great time father day buy seller\n"
     ]
    }
   ],
   "source": [
    "# some reviews of cluster2\n",
    "for i in range(3):\n",
    "    print('Review -',i+1,\"\\n\",cluster2[i])"
   ]
  },
  {
   "cell_type": "code",
   "execution_count": 16,
   "metadata": {},
   "outputs": [
    {
     "name": "stdout",
     "output_type": "stream",
     "text": [
      "Review - 1 \n",
      " midwestern grow eat moon pie arent sale around part order box son read children book moon pie want tast moon order took forev arriv pie day expir tast bland dri over sweet continu imagin moon made chees\n",
      "Review - 2 \n",
      " love american year know well tootsi roll hard candi around tootsi roll tootsi roll middl hard lolli pop part get pop done got tootsi roll come mani flavor kid favorit\n",
      "Review - 3 \n",
      " love sauc best chicken dont grill great slather chicken roast oven everi time make friend alway ask like store buy amazon okay get hungri\n"
     ]
    }
   ],
   "source": [
    "# some reviews of cluster3\n",
    "for i in range(3):\n",
    "    print('Review -',i+1,\"\\n\",cluster3[i])"
   ]
  },
  {
   "cell_type": "code",
   "execution_count": 17,
   "metadata": {},
   "outputs": [
    {
     "name": "stdout",
     "output_type": "stream",
     "text": [
      "Review - 1 \n",
      " bone last realli long time dog love dont get much dog love fill\n",
      "Review - 2 \n",
      " hard find spitz store area arent dill pickl flavor hubbi doesnt like found good price excit yummi\n",
      "Review - 3 \n",
      " qualiti flavor tea worth time price order sup prize origin purchas get tin new tea rack transfer price tea tin go wait use first\n"
     ]
    }
   ],
   "source": [
    "# some reviews of cluster4\n",
    "for i in range(3):\n",
    "    print('Review -',i+1,\"\\n\",cluster4[i])"
   ]
  },
  {
   "cell_type": "code",
   "execution_count": 18,
   "metadata": {},
   "outputs": [
    {
     "name": "stdout",
     "output_type": "stream",
     "text": [
      "Review - 1 \n",
      " ive eaten crown princ sardin tomato past leas yrs tri brand avail product deliv well box time ron\n",
      "Review - 2 \n",
      " cant say anyth qualiti tast textur touch smell substanc general qualiti product unfortun found order receiv product manufactur facil use tree nut soy appreci fact manufactur mention packag would help great inform note product inform page check amazon page mention incred import inform without famili member suffer peanut tree nut allergi mani live challeng steer clear product would also hesit purchas product manufactur without first verifi product manufactur facil use tree nut wait check websit there singl refer allergen gluten product actual seem rather ampl offer product good littl allergi last dont expect everi product free peanut tree nut expect manufactur make known ingredi product use facil ingredi use product unfortun bob red mill done neither websit product page amazon could return product anoth box origin one alreadi thrown much troubl hassl thank bob\n",
      "Review - 3 \n",
      " spot local gourmet suppli shopp never heard wild oliv oil came home research first thing found line oliv oil use exclus one world best restaur celler roca michelin star girona spain proprietor celebr joan roca got attent found compani websit amaz detail process harvest process wild organ oliv wild organ oliv oil come point spain largest river ebro flow catalonia number artifici lake creat last centuri generat electr arid slope metr high near villag riba roja debr grow numer stubbi arbequina oliv tree small contort often old uniqu advantag altitud incid infam white fli dacus olei present big challeng organ oliv farmer lower altitud mean solivera grow certifi oliv without use pesticid harvest wild organ oliv oil press one last remain tradit stone mill spain oliv ground huge granit wheel press pile round straw mat oil decant graviti larg masonri cistern arm inform could gather went back shopp bought bottl amaz stuff along fresh french bread made beelin home say god olympus must sure bottl dine tabl good light earthi medium bodi full flavor fruiti great dip salad finish price reason ive alway fan spanish oliv oil even attach thank wonder peopl solivera dot com great background inform amaz gift culinari world pit\n"
     ]
    }
   ],
   "source": [
    "# some reviews of cluster5\n",
    "for i in range(3):\n",
    "    print('Review -',i+1,\"\\n\",cluster5[i])"
   ]
  },
  {
   "cell_type": "code",
   "execution_count": 19,
   "metadata": {},
   "outputs": [
    {
     "name": "stdout",
     "output_type": "stream",
     "text": [
      "Review - 1 \n",
      " interstiti cystiti unabl chocol depress tri find chocol substitut noth seem give chocol fix found wonder product chatfield carob powder closest thing tast chocol believ tri mani mani brand favorit recip far includ carob latt recip back browni carob cooki husband picki said wouldnt told carob would never known unabl eat chocol want healthier version high recommend\n",
      "Review - 2 \n",
      " stuff terribl dont think sugar free margarita tast like made gatorad appreci review need sugar free high mark led buy think good\n",
      "Review - 3 \n",
      " look someth give energi wasnt drink keep get weigh gum fix look time work drive long distanc start fade drag work need kick true pant pop two piec feel like champ\n"
     ]
    }
   ],
   "source": [
    "# some reviews of cluster6\n",
    "for i in range(3):\n",
    "    print('Review -',i+1,\"\\n\",cluster6[i])"
   ]
  },
  {
   "cell_type": "code",
   "execution_count": 20,
   "metadata": {},
   "outputs": [
    {
     "name": "stdout",
     "output_type": "stream",
     "text": [
      "Review - 1 \n",
      " dog eat food exclus sinc puppi alway get good vet checkup alreadi pass averag life expect breed healthi skin teeth matur dog puppi person feel like bene premium brand without high price brand buy vet pet store like run short find bene almost everywher\n"
     ]
    }
   ],
   "source": [
    "# some reviews of cluster7\n",
    "for i in range(1):\n",
    "    print('Review -',i+1,\"\\n\",cluster7[i])"
   ]
  },
  {
   "cell_type": "code",
   "execution_count": 21,
   "metadata": {},
   "outputs": [
    {
     "name": "stdout",
     "output_type": "stream",
     "text": [
      "Review - 1 \n",
      " tasti chocol use seem like high qualiti provid perfect ad layer tast sweet confect melt mouth wow ever realli look like mushroom theyr quit impress way got substanti discount warehous deal otherwis theyr expens your got coin theyr worth\n",
      "Review - 2 \n",
      " dont like lot kitchen counter clutter happi find product read bunch review ahead time went ahead secur screw wouldnt anywher love thing much bought second one husband coffe holder design sleek love abl bunch differ flavor coffe right keurig without pile differ box counter one tip would like pass open close holder use front bar otherwis cockey close flat\n",
      "Review - 3 \n",
      " tea absolut wonder everi flavor assort delici cant seem pick one favorit also love mighti leaf tea organ detox infus herbal tea box pack order pack one keep box work use one lot eat lunch small tummi ach love stuff havent tri everi flavor yet look forward tri new flavor near futur enjoy\n"
     ]
    }
   ],
   "source": [
    "# some reviews of cluster8\n",
    "for i in range(3):\n",
    "    print('Review -',i+1,\"\\n\",cluster8[i])"
   ]
  },
  {
   "cell_type": "code",
   "execution_count": 22,
   "metadata": {},
   "outputs": [
    {
     "name": "stdout",
     "output_type": "stream",
     "text": [
      "Review - 1 \n",
      " newcom world home bought euro cuisin yogurt maker decid start profession yogurt cultur rather buy organ yogurt store use starter girmi work perfect gave silki tasti yogurt howev coupl thing make yogurt famili know ad yellow red aspartam sweeten ident natur lower cost pay small contain greek yogurt bit annoy girmi starter go around per packet make jar yogurt plus milk plus yogurt machin itll long time break even reus girmi cultur probabl use one jar first batch yogurt starter anoth end buy jar yogurt starter wholefood last quart yogurt make\n",
      "Review - 2 \n",
      " much search final found distributor chik biscuit two dog love product ship prompt secur order two two happi pet cooki natur wrap strip chicken\n",
      "Review - 3 \n",
      " recent tri first time great want someth crunchi salti low carb diet also wonder crush top salad plan order tri varieti\n"
     ]
    }
   ],
   "source": [
    "# some reviews of cluster9\n",
    "for i in range(3):\n",
    "    print('Review -',i+1,\"\\n\",cluster9[i])"
   ]
  },
  {
   "cell_type": "code",
   "execution_count": 23,
   "metadata": {},
   "outputs": [
    {
     "name": "stdout",
     "output_type": "stream",
     "text": [
      "Review - 1 \n",
      " product hot enough want add direct food use strengthen shelf hot sauc like heat build rather attack\n",
      "Review - 2 \n",
      " like shampoo clear condition goe thick wash away nice nice smell leav hair smooth silki weigh hair nice price great condition suppos\n",
      "Review - 3 \n",
      " sour appl chip sour eat one chip time well sinc tast great let savor flavor definit bit differ seneca appl chip flavor much sweeter\n"
     ]
    }
   ],
   "source": [
    "# some reviews of cluster10\n",
    "for i in range(3):\n",
    "    print('Review -',i+1,\"\\n\",cluster10[i])"
   ]
  },
  {
   "cell_type": "markdown",
   "metadata": {},
   "source": [
    "# TF-IDF"
   ]
  },
  {
   "cell_type": "code",
   "execution_count": 24,
   "metadata": {},
   "outputs": [],
   "source": [
    "#loading data from files\n",
    "from scipy import sparse\n",
    "\n",
    "X_train_tfidf = sparse.load_npz(\"X_train_tfidf.npz\")\n",
    "X_train_tfidf=X_train_tfidf[0:5000,:]\n"
   ]
  },
  {
   "cell_type": "markdown",
   "metadata": {},
   "source": [
    "# Hierarchical Clustering with 2 cluster"
   ]
  },
  {
   "cell_type": "code",
   "execution_count": 25,
   "metadata": {},
   "outputs": [
    {
     "name": "stdout",
     "output_type": "stream",
     "text": [
      "No. of reviews in Cluster-1 :  4841\n",
      "\n",
      "No. of reviews in Cluster-2 :  159\n"
     ]
    }
   ],
   "source": [
    "from sklearn.cluster import AgglomerativeClustering\n",
    "Data=X_train_tfidf.toarray()\n",
    "# cluster=2 by default\n",
    "clustering = AgglomerativeClustering().fit(Data)\n",
    "\n",
    "cluster1=[]\n",
    "cluster2=[]\n",
    "n=clustering.labels_.shape[0]\n",
    "\n",
    "for index in range(n):\n",
    "    if clustering.labels_[index]==0:\n",
    "        cluster1.append(X_train[index])\n",
    "    else :\n",
    "        cluster2.append(X_train[index])\n",
    "\n",
    "# Number of reviews in different clusters\n",
    "print(\"No. of reviews in Cluster-1 : \",len(cluster1))\n",
    "print(\"\\nNo. of reviews in Cluster-2 : \",len(cluster2))"
   ]
  },
  {
   "cell_type": "code",
   "execution_count": 26,
   "metadata": {},
   "outputs": [
    {
     "name": "stdout",
     "output_type": "stream",
     "text": [
      "Review - 1 \n",
      " ive eaten crown princ sardin tomato past leas yrs tri brand avail product deliv well box time ron\n",
      "Review - 2 \n",
      " cant say anyth qualiti tast textur touch smell substanc general qualiti product unfortun found order receiv product manufactur facil use tree nut soy appreci fact manufactur mention packag would help great inform note product inform page check amazon page mention incred import inform without famili member suffer peanut tree nut allergi mani live challeng steer clear product would also hesit purchas product manufactur without first verifi product manufactur facil use tree nut wait check websit there singl refer allergen gluten product actual seem rather ampl offer product good littl allergi last dont expect everi product free peanut tree nut expect manufactur make known ingredi product use facil ingredi use product unfortun bob red mill done neither websit product page amazon could return product anoth box origin one alreadi thrown much troubl hassl thank bob\n",
      "Review - 3 \n",
      " spot local gourmet suppli shopp never heard wild oliv oil came home research first thing found line oliv oil use exclus one world best restaur celler roca michelin star girona spain proprietor celebr joan roca got attent found compani websit amaz detail process harvest process wild organ oliv wild organ oliv oil come point spain largest river ebro flow catalonia number artifici lake creat last centuri generat electr arid slope metr high near villag riba roja debr grow numer stubbi arbequina oliv tree small contort often old uniqu advantag altitud incid infam white fli dacus olei present big challeng organ oliv farmer lower altitud mean solivera grow certifi oliv without use pesticid harvest wild organ oliv oil press one last remain tradit stone mill spain oliv ground huge granit wheel press pile round straw mat oil decant graviti larg masonri cistern arm inform could gather went back shopp bought bottl amaz stuff along fresh french bread made beelin home say god olympus must sure bottl dine tabl good light earthi medium bodi full flavor fruiti great dip salad finish price reason ive alway fan spanish oliv oil even attach thank wonder peopl solivera dot com great background inform amaz gift culinari world pit\n"
     ]
    }
   ],
   "source": [
    "# some reviews of cluster1\n",
    "for i in range(3):\n",
    "    print('Review -',i+1,\"\\n\",cluster1[i])"
   ]
  },
  {
   "cell_type": "code",
   "execution_count": 27,
   "metadata": {},
   "outputs": [
    {
     "name": "stdout",
     "output_type": "stream",
     "text": [
      "Review - 1 \n",
      " tasti chocol use seem like high qualiti provid perfect ad layer tast sweet confect melt mouth wow ever realli look like mushroom theyr quit impress way got substanti discount warehous deal otherwis theyr expens your got coin theyr worth\n",
      "Review - 2 \n",
      " simpl cage feeder woodpeck grackl power seed cake feeder also attract wren dont care hang upsid hesit replac feeder feeder though would thwart grackl cake less expens one buy previous seem bit harder discourag grackl least littl still attract woodpeck wren\n",
      "Review - 3 \n",
      " use product mani year delight carri amazon superb salad dress delici enought use salad without oil deliveri prompt would deal seller\n"
     ]
    }
   ],
   "source": [
    "# some reviews of cluster2\n",
    "for i in range(3):\n",
    "    print('Review -',i+1,\"\\n\",cluster2[i])"
   ]
  },
  {
   "cell_type": "markdown",
   "metadata": {},
   "source": [
    "# Hiearachical Clustering with 5 Cluster"
   ]
  },
  {
   "cell_type": "code",
   "execution_count": 28,
   "metadata": {},
   "outputs": [
    {
     "name": "stdout",
     "output_type": "stream",
     "text": [
      "No. of reviews in Cluster-1 :  529\n",
      "\n",
      "No. of reviews in Cluster-2 :  3838\n",
      "\n",
      "No. of reviews in Cluster-3 :  98\n",
      "\n",
      "No. of reviews in Cluster-4 :  159\n",
      "\n",
      "No. of reviews in Cluster-5 :  376\n"
     ]
    }
   ],
   "source": [
    "from sklearn.cluster import AgglomerativeClustering\n",
    "Data=X_train_tfidf.toarray()\n",
    "# cluster=5\n",
    "clustering = AgglomerativeClustering(n_clusters=5).fit(Data)\n",
    "\n",
    "cluster1=[]\n",
    "cluster2=[]\n",
    "cluster3=[]\n",
    "cluster4=[]\n",
    "cluster5=[]\n",
    "\n",
    "n=clustering.labels_.shape[0]\n",
    "\n",
    "for index in range(n):\n",
    "    if clustering.labels_[index]==0:\n",
    "        cluster1.append(X_train[index])\n",
    "    elif clustering.labels_[index]==1:\n",
    "        cluster2.append(X_train[index])\n",
    "    elif clustering.labels_[index]==2:\n",
    "        cluster3.append(X_train[index])\n",
    "    elif clustering.labels_[index]==3:\n",
    "        cluster4.append(X_train[index])\n",
    "    else :\n",
    "        cluster5.append(X_train[index])\n",
    "              \n",
    "# Number of reviews in different clusters\n",
    "print(\"No. of reviews in Cluster-1 : \",len(cluster1))\n",
    "print(\"\\nNo. of reviews in Cluster-2 : \",len(cluster2))\n",
    "print(\"\\nNo. of reviews in Cluster-3 : \",len(cluster3))\n",
    "print(\"\\nNo. of reviews in Cluster-4 : \",len(cluster4))\n",
    "print(\"\\nNo. of reviews in Cluster-5 : \",len(cluster5))"
   ]
  },
  {
   "cell_type": "code",
   "execution_count": 29,
   "metadata": {},
   "outputs": [
    {
     "name": "stdout",
     "output_type": "stream",
     "text": [
      "Review - 1 \n",
      " spot local gourmet suppli shopp never heard wild oliv oil came home research first thing found line oliv oil use exclus one world best restaur celler roca michelin star girona spain proprietor celebr joan roca got attent found compani websit amaz detail process harvest process wild organ oliv wild organ oliv oil come point spain largest river ebro flow catalonia number artifici lake creat last centuri generat electr arid slope metr high near villag riba roja debr grow numer stubbi arbequina oliv tree small contort often old uniqu advantag altitud incid infam white fli dacus olei present big challeng organ oliv farmer lower altitud mean solivera grow certifi oliv without use pesticid harvest wild organ oliv oil press one last remain tradit stone mill spain oliv ground huge granit wheel press pile round straw mat oil decant graviti larg masonri cistern arm inform could gather went back shopp bought bottl amaz stuff along fresh french bread made beelin home say god olympus must sure bottl dine tabl good light earthi medium bodi full flavor fruiti great dip salad finish price reason ive alway fan spanish oliv oil even attach thank wonder peopl solivera dot com great background inform amaz gift culinari world pit\n",
      "Review - 2 \n",
      " suffer ibd inflammatori bowel diseas number year discov horror synthet ingredi carrageean guar gum major reason disord carrageean guar gum known carcinogen contribut inflammatori condit intestin read report cornucopia org sinc elimin food contain ingredi specif carrageean small intestin colon begun heal year doctor thought inflamm allergi relat wheat gluten relat suspect synthet carageean ingredi googl danger carrageean understand inflam colon contribut ibd ib crohn colon cancer horribl ingredi also milk dairi product pet food pleas read label buy product anyway coconut milk bit challeng use yes tast great know coconut ingredi wont inflam gut say coconut milk ive research contain horribl carrageean ingredi stay away read everi label peac\n",
      "Review - 3 \n",
      " happi purchas look nice hold contain price arriv perfect shape thing dislik product bottom two drawer sometim difficult pull instead glide sort wiggl shimmi realli big deal though minor annoy overal product everyth hope store least favorit flavor bottom difficult pull\n"
     ]
    }
   ],
   "source": [
    "# some reviews of cluster1\n",
    "for i in range(3):\n",
    "    print('Review -',i+1,\"\\n\",cluster1[i])"
   ]
  },
  {
   "cell_type": "code",
   "execution_count": 30,
   "metadata": {},
   "outputs": [
    {
     "name": "stdout",
     "output_type": "stream",
     "text": [
      "Review - 1 \n",
      " ive eaten crown princ sardin tomato past leas yrs tri brand avail product deliv well box time ron\n",
      "Review - 2 \n",
      " cant say anyth qualiti tast textur touch smell substanc general qualiti product unfortun found order receiv product manufactur facil use tree nut soy appreci fact manufactur mention packag would help great inform note product inform page check amazon page mention incred import inform without famili member suffer peanut tree nut allergi mani live challeng steer clear product would also hesit purchas product manufactur without first verifi product manufactur facil use tree nut wait check websit there singl refer allergen gluten product actual seem rather ampl offer product good littl allergi last dont expect everi product free peanut tree nut expect manufactur make known ingredi product use facil ingredi use product unfortun bob red mill done neither websit product page amazon could return product anoth box origin one alreadi thrown much troubl hassl thank bob\n",
      "Review - 3 \n",
      " fact haribo gummi bear vari tast depend theyr produc sweet shini slimi other wonder flavor even flavor like least tast great problem mini bag disappear quicker imagin enjoy\n"
     ]
    }
   ],
   "source": [
    "# some reviews of cluster2\n",
    "for i in range(3):\n",
    "    print('Review -',i+1,\"\\n\",cluster2[i])"
   ]
  },
  {
   "cell_type": "code",
   "execution_count": 31,
   "metadata": {},
   "outputs": [
    {
     "name": "stdout",
     "output_type": "stream",
     "text": [
      "Review - 1 \n",
      " hard find spitz store area arent dill pickl flavor hubbi doesnt like found good price excit yummi\n",
      "Review - 2 \n",
      " qualiti flavor tea worth time price order sup prize origin purchas get tin new tea rack transfer price tea tin go wait use first\n",
      "Review - 3 \n",
      " dog epilepsi requir morn medic even medic capsul work great would reccommend product one\n"
     ]
    }
   ],
   "source": [
    "# some reviews of cluster3\n",
    "for i in range(3):\n",
    "    print('Review -',i+1,\"\\n\",cluster3[i])"
   ]
  },
  {
   "cell_type": "code",
   "execution_count": 32,
   "metadata": {},
   "outputs": [
    {
     "name": "stdout",
     "output_type": "stream",
     "text": [
      "Review - 1 \n",
      " tasti chocol use seem like high qualiti provid perfect ad layer tast sweet confect melt mouth wow ever realli look like mushroom theyr quit impress way got substanti discount warehous deal otherwis theyr expens your got coin theyr worth\n",
      "Review - 2 \n",
      " simpl cage feeder woodpeck grackl power seed cake feeder also attract wren dont care hang upsid hesit replac feeder feeder though would thwart grackl cake less expens one buy previous seem bit harder discourag grackl least littl still attract woodpeck wren\n",
      "Review - 3 \n",
      " use product mani year delight carri amazon superb salad dress delici enought use salad without oil deliveri prompt would deal seller\n"
     ]
    }
   ],
   "source": [
    "# some reviews of cluster4\n",
    "for i in range(3):\n",
    "    print('Review -',i+1,\"\\n\",cluster4[i])"
   ]
  },
  {
   "cell_type": "code",
   "execution_count": 33,
   "metadata": {},
   "outputs": [
    {
     "name": "stdout",
     "output_type": "stream",
     "text": [
      "Review - 1 \n",
      " interstiti cystiti unabl chocol depress tri find chocol substitut noth seem give chocol fix found wonder product chatfield carob powder closest thing tast chocol believ tri mani mani brand favorit recip far includ carob latt recip back browni carob cooki husband picki said wouldnt told carob would never known unabl eat chocol want healthier version high recommend\n",
      "Review - 2 \n",
      " stuff terribl dont think sugar free margarita tast like made gatorad appreci review need sugar free high mark led buy think good\n",
      "Review - 3 \n",
      " candi sweeten xylitol great tast similar sugar candi doesnt strang aftertast found xylitol candi abl eat without much guilt still enjoy tast\n"
     ]
    }
   ],
   "source": [
    "# some reviews of cluster5\n",
    "for i in range(3):\n",
    "    print('Review -',i+1,\"\\n\",cluster5[i])"
   ]
  },
  {
   "cell_type": "markdown",
   "metadata": {},
   "source": [
    "# Hierarchical Clustering with 10 Cluster"
   ]
  },
  {
   "cell_type": "code",
   "execution_count": 34,
   "metadata": {},
   "outputs": [
    {
     "name": "stdout",
     "output_type": "stream",
     "text": [
      "No. of reviews in Cluster-1 :  440\n",
      "\n",
      "No. of reviews in Cluster-2 :  122\n",
      "\n",
      "No. of reviews in Cluster-3 :  104\n",
      "\n",
      "No. of reviews in Cluster-4 :  159\n",
      "\n",
      "No. of reviews in Cluster-5 :  3518\n",
      "No. of reviews in Cluster-6 :  89\n",
      "\n",
      "No. of reviews in Cluster-7 :  98\n",
      "\n",
      "No. of reviews in Cluster-8 :  51\n",
      "\n",
      "No. of reviews in Cluster-9 :  43\n",
      "\n",
      "No. of reviews in Cluster-10 :  376\n"
     ]
    }
   ],
   "source": [
    "from sklearn.cluster import AgglomerativeClustering\n",
    "Data=X_train_tfidf.toarray()\n",
    "# cluster=10\n",
    "clustering = AgglomerativeClustering(n_clusters=10).fit(Data)\n",
    "\n",
    "cluster1=[]\n",
    "cluster2=[]\n",
    "cluster3=[]\n",
    "cluster4=[]\n",
    "cluster5=[]\n",
    "cluster6=[]\n",
    "cluster7=[]\n",
    "cluster8=[]\n",
    "cluster9=[]\n",
    "cluster10=[]\n",
    "\n",
    "n=clustering.labels_.shape[0]\n",
    "\n",
    "for index in range(n):\n",
    "    if clustering.labels_[index]==0:\n",
    "        cluster1.append(X_train[index])\n",
    "    elif clustering.labels_[index]==1:\n",
    "        cluster2.append(X_train[index])\n",
    "    elif clustering.labels_[index]==2:\n",
    "        cluster3.append(X_train[index])\n",
    "    elif clustering.labels_[index]==3:\n",
    "        cluster4.append(X_train[index])\n",
    "    elif clustering.labels_[index]==4:\n",
    "        cluster5.append(X_train[index])\n",
    "    elif clustering.labels_[index]==5:\n",
    "        cluster6.append(X_train[index])\n",
    "    elif clustering.labels_[index]==6:\n",
    "        cluster7.append(X_train[index])\n",
    "    elif clustering.labels_[index]==7:\n",
    "        cluster8.append(X_train[index])\n",
    "    elif clustering.labels_[index]==8:\n",
    "        cluster9.append(X_train[index])\n",
    "    else :\n",
    "        cluster10.append(X_train[index])\n",
    "              \n",
    "# Number of reviews in different clusters\n",
    "print(\"No. of reviews in Cluster-1 : \",len(cluster1))\n",
    "print(\"\\nNo. of reviews in Cluster-2 : \",len(cluster2))\n",
    "print(\"\\nNo. of reviews in Cluster-3 : \",len(cluster3))\n",
    "print(\"\\nNo. of reviews in Cluster-4 : \",len(cluster4))\n",
    "print(\"\\nNo. of reviews in Cluster-5 : \",len(cluster5))\n",
    "print(\"No. of reviews in Cluster-6 : \", len(cluster6))\n",
    "print(\"\\nNo. of reviews in Cluster-7 : \",len(cluster7))\n",
    "print(\"\\nNo. of reviews in Cluster-8 : \",len(cluster8))\n",
    "print(\"\\nNo. of reviews in Cluster-9 : \",len(cluster9))\n",
    "print(\"\\nNo. of reviews in Cluster-10 : \",len(cluster10))"
   ]
  },
  {
   "cell_type": "code",
   "execution_count": 35,
   "metadata": {},
   "outputs": [
    {
     "name": "stdout",
     "output_type": "stream",
     "text": [
      "Review - 1 \n",
      " spot local gourmet suppli shopp never heard wild oliv oil came home research first thing found line oliv oil use exclus one world best restaur celler roca michelin star girona spain proprietor celebr joan roca got attent found compani websit amaz detail process harvest process wild organ oliv wild organ oliv oil come point spain largest river ebro flow catalonia number artifici lake creat last centuri generat electr arid slope metr high near villag riba roja debr grow numer stubbi arbequina oliv tree small contort often old uniqu advantag altitud incid infam white fli dacus olei present big challeng organ oliv farmer lower altitud mean solivera grow certifi oliv without use pesticid harvest wild organ oliv oil press one last remain tradit stone mill spain oliv ground huge granit wheel press pile round straw mat oil decant graviti larg masonri cistern arm inform could gather went back shopp bought bottl amaz stuff along fresh french bread made beelin home say god olympus must sure bottl dine tabl good light earthi medium bodi full flavor fruiti great dip salad finish price reason ive alway fan spanish oliv oil even attach thank wonder peopl solivera dot com great background inform amaz gift culinari world pit\n",
      "Review - 2 \n",
      " suffer ibd inflammatori bowel diseas number year discov horror synthet ingredi carrageean guar gum major reason disord carrageean guar gum known carcinogen contribut inflammatori condit intestin read report cornucopia org sinc elimin food contain ingredi specif carrageean small intestin colon begun heal year doctor thought inflamm allergi relat wheat gluten relat suspect synthet carageean ingredi googl danger carrageean understand inflam colon contribut ibd ib crohn colon cancer horribl ingredi also milk dairi product pet food pleas read label buy product anyway coconut milk bit challeng use yes tast great know coconut ingredi wont inflam gut say coconut milk ive research contain horribl carrageean ingredi stay away read everi label peac\n",
      "Review - 3 \n",
      " happi purchas look nice hold contain price arriv perfect shape thing dislik product bottom two drawer sometim difficult pull instead glide sort wiggl shimmi realli big deal though minor annoy overal product everyth hope store least favorit flavor bottom difficult pull\n"
     ]
    }
   ],
   "source": [
    "# some reviews of cluster1\n",
    "for i in range(3):\n",
    "    print('Review -',i+1,\"\\n\",cluster1[i])"
   ]
  },
  {
   "cell_type": "code",
   "execution_count": 36,
   "metadata": {},
   "outputs": [
    {
     "name": "stdout",
     "output_type": "stream",
     "text": [
      "Review - 1 \n",
      " ive eat bar year ive notic late qualiti good hard thing break teeth qualiti control monitor go call compani let know last box ive purchas par tast realli good long dont bite someth hard like bite nutshel need know asap\n",
      "Review - 2 \n",
      " quick easi tasti healthi one item love use salad wrap soup hispan dish perfect portion control size allow get right amount still watch calori intak take snack parti top\n",
      "Review - 3 \n",
      " made batch red wine grape varit lalvin last year everi batch start quickley ferment complet problem sterilyz equip use chemic start must degre let find temperatur balanc yeast vigorus noth strang seem ever abl get start scatter yeast must soon stainless soup kettl let float top minut stir alway adjust sugar alcohol brix take awhil complet ferment month due high sugar content wine great much better commerci wine tri longer want buy wine went wine tast recent dollar bottl wine far inferior make gage larri denni\n"
     ]
    }
   ],
   "source": [
    "# some reviews of cluster2\n",
    "for i in range(3):\n",
    "    print('Review -',i+1,\"\\n\",cluster2[i])"
   ]
  },
  {
   "cell_type": "code",
   "execution_count": 37,
   "metadata": {},
   "outputs": [
    {
     "name": "stdout",
     "output_type": "stream",
     "text": [
      "Review - 1 \n",
      " brother lover licoric sinc retir decid gift licoric would uniqu sent rave best licoric ive ever\n",
      "Review - 2 \n",
      " got parent love fill pistachio big fan nut bit expens still recommend tast\n",
      "Review - 3 \n",
      " last year first summer live oregon neighborhood mani black tail deer test design one spot front yard plant mani differ kind annual say deer wont eat deer ate start spray deer turn color beauti garden rain lot rain sprinkler system spray garden heavili spray deer twice week year actual nerv plant rose bush first bottl ran buy new one think work\n"
     ]
    }
   ],
   "source": [
    "# some reviews of cluster3\n",
    "for i in range(3):\n",
    "    print('Review -',i+1,\"\\n\",cluster3[i])"
   ]
  },
  {
   "cell_type": "code",
   "execution_count": 38,
   "metadata": {},
   "outputs": [
    {
     "name": "stdout",
     "output_type": "stream",
     "text": [
      "Review - 1 \n",
      " tasti chocol use seem like high qualiti provid perfect ad layer tast sweet confect melt mouth wow ever realli look like mushroom theyr quit impress way got substanti discount warehous deal otherwis theyr expens your got coin theyr worth\n",
      "Review - 2 \n",
      " simpl cage feeder woodpeck grackl power seed cake feeder also attract wren dont care hang upsid hesit replac feeder feeder though would thwart grackl cake less expens one buy previous seem bit harder discourag grackl least littl still attract woodpeck wren\n",
      "Review - 3 \n",
      " use product mani year delight carri amazon superb salad dress delici enought use salad without oil deliveri prompt would deal seller\n"
     ]
    }
   ],
   "source": [
    "# some reviews of cluster4\n",
    "for i in range(3):\n",
    "    print('Review -',i+1,\"\\n\",cluster4[i])"
   ]
  },
  {
   "cell_type": "code",
   "execution_count": 39,
   "metadata": {},
   "outputs": [
    {
     "name": "stdout",
     "output_type": "stream",
     "text": [
      "Review - 1 \n",
      " ive eaten crown princ sardin tomato past leas yrs tri brand avail product deliv well box time ron\n",
      "Review - 2 \n",
      " cant say anyth qualiti tast textur touch smell substanc general qualiti product unfortun found order receiv product manufactur facil use tree nut soy appreci fact manufactur mention packag would help great inform note product inform page check amazon page mention incred import inform without famili member suffer peanut tree nut allergi mani live challeng steer clear product would also hesit purchas product manufactur without first verifi product manufactur facil use tree nut wait check websit there singl refer allergen gluten product actual seem rather ampl offer product good littl allergi last dont expect everi product free peanut tree nut expect manufactur make known ingredi product use facil ingredi use product unfortun bob red mill done neither websit product page amazon could return product anoth box origin one alreadi thrown much troubl hassl thank bob\n",
      "Review - 3 \n",
      " fact haribo gummi bear vari tast depend theyr produc sweet shini slimi other wonder flavor even flavor like least tast great problem mini bag disappear quicker imagin enjoy\n"
     ]
    }
   ],
   "source": [
    "# some reviews of cluster5\n",
    "for i in range(3):\n",
    "    print('Review -',i+1,\"\\n\",cluster5[i])"
   ]
  },
  {
   "cell_type": "code",
   "execution_count": 40,
   "metadata": {},
   "outputs": [
    {
     "name": "stdout",
     "output_type": "stream",
     "text": [
      "Review - 1 \n",
      " must honest buy amazon first time dont sell around hous find somewher get perfect mix flavor heat never better sauc\n",
      "Review - 2 \n",
      " product fantast delici appropri occas would recommend anyon know\n",
      "Review - 3 \n",
      " bought cracker whim purchas powder peanut butter bad low fat treat weight watcher alway look altern snack strong peanut butter flavor littl bit aftertast though would purchas would prefer make use\n"
     ]
    }
   ],
   "source": [
    "# some reviews of cluster6\n",
    "for i in range(3):\n",
    "    print('Review -',i+1,\"\\n\",cluster6[i])"
   ]
  },
  {
   "cell_type": "code",
   "execution_count": 41,
   "metadata": {},
   "outputs": [
    {
     "name": "stdout",
     "output_type": "stream",
     "text": [
      "Review - 1 \n",
      " hard find spitz store area arent dill pickl flavor hubbi doesnt like found good price excit yummi\n"
     ]
    }
   ],
   "source": [
    "# some reviews of cluster7\n",
    "for i in range(1):\n",
    "    print('Review -',i+1,\"\\n\",cluster7[i])"
   ]
  },
  {
   "cell_type": "code",
   "execution_count": 42,
   "metadata": {},
   "outputs": [
    {
     "name": "stdout",
     "output_type": "stream",
     "text": [
      "Review - 1 \n",
      " live remot area world countri health conscious abl order stuff like amazon realli fill bill found immedi order love thing add seed crunch health bang mani recip chia seed ad up vast health benefit\n",
      "Review - 2 \n",
      " least strong bitter coffe find cup like strong coffe one enjoy came varieti pack came coffe maker\n",
      "Review - 3 \n",
      " weve tri almost year sinc husband diagnos celiac diseas quinoa absolut best pasta closest semolina type love dont avoid wheat price great publix awhil great know amazon\n"
     ]
    }
   ],
   "source": [
    "# some reviews of cluster8\n",
    "for i in range(3):\n",
    "    print('Review -',i+1,\"\\n\",cluster8[i])"
   ]
  },
  {
   "cell_type": "code",
   "execution_count": 43,
   "metadata": {},
   "outputs": [
    {
     "name": "stdout",
     "output_type": "stream",
     "text": [
      "Review - 1 \n",
      " havent tri water yet dont know tast add protein smoothi frozen strawberri mango banana flax oil brown rice protein powder water tast pretti good happi product happi price continu use greensuperfood green powder\n",
      "Review - 2 \n",
      " scour internet look healthier protein shake came across svelt rememb see whole food love packag fact reseal didnt drink that posit stop though svelt boil soy milk sugar alcohol sugar took one gym trainer look bottl laugh hand back say buy soy milk cheaper get protein probabl tast better went rant much doesnt like soy protein dont care part much tast realli artifici favorit one cappuccino chocol vanilla tast realli bad spice chai one even wors folk dont wast money blend shake mayb research soy appar good like initi thought\n",
      "Review - 3 \n",
      " didnt buy seller good cooki agre review dont realli tast like cheesecak rather vanilla frost still good glass milk buy box store overpr\n"
     ]
    }
   ],
   "source": [
    "# some reviews of cluster9\n",
    "for i in range(3):\n",
    "    print('Review -',i+1,\"\\n\",cluster9[i])"
   ]
  },
  {
   "cell_type": "code",
   "execution_count": 44,
   "metadata": {},
   "outputs": [
    {
     "name": "stdout",
     "output_type": "stream",
     "text": [
      "Review - 1 \n",
      " interstiti cystiti unabl chocol depress tri find chocol substitut noth seem give chocol fix found wonder product chatfield carob powder closest thing tast chocol believ tri mani mani brand favorit recip far includ carob latt recip back browni carob cooki husband picki said wouldnt told carob would never known unabl eat chocol want healthier version high recommend\n",
      "Review - 2 \n",
      " stuff terribl dont think sugar free margarita tast like made gatorad appreci review need sugar free high mark led buy think good\n",
      "Review - 3 \n",
      " candi sweeten xylitol great tast similar sugar candi doesnt strang aftertast found xylitol candi abl eat without much guilt still enjoy tast\n"
     ]
    }
   ],
   "source": [
    "# some reviews of cluster10\n",
    "for i in range(3):\n",
    "    print('Review -',i+1,\"\\n\",cluster10[i])"
   ]
  },
  {
   "cell_type": "markdown",
   "metadata": {},
   "source": [
    "# AVGW2V"
   ]
  },
  {
   "cell_type": "code",
   "execution_count": 45,
   "metadata": {},
   "outputs": [],
   "source": [
    "X_train_avgw2v = []\n",
    "with open(\"Xs_train_avgw2v.txt\", \"r\") as f:\n",
    "    str1 = ''\n",
    "    for line in f:\n",
    "        if(']' in line):\n",
    "            str1 = str1+line\n",
    "            len1 = len(str1)\n",
    "            X_train_avgw2v.append(list(np.float64(x) for x in str1[1:len1-1].strip(']').split()))\n",
    "            str1 = ''\n",
    "        else :\n",
    "            str1 = str1+line\n",
    "            \n",
    "X_train_avgw2v=X_train_avgw2v[0:5000]"
   ]
  },
  {
   "cell_type": "markdown",
   "metadata": {},
   "source": [
    "# Hierarchical Clustering with 2 Cluster"
   ]
  },
  {
   "cell_type": "code",
   "execution_count": 46,
   "metadata": {},
   "outputs": [
    {
     "name": "stdout",
     "output_type": "stream",
     "text": [
      "No. of reviews in Cluster-1 :  4019\n",
      "\n",
      "No. of reviews in Cluster-2 :  981\n"
     ]
    }
   ],
   "source": [
    "from sklearn.cluster import AgglomerativeClustering\n",
    "Data=X_train_avgw2v\n",
    "# cluster=2 by default\n",
    "clustering = AgglomerativeClustering().fit(Data)\n",
    "\n",
    "cluster1=[]\n",
    "cluster2=[]\n",
    "n=clustering.labels_.shape[0]\n",
    "\n",
    "for index in range(n):\n",
    "    if clustering.labels_[index]==0:\n",
    "        cluster1.append(X_train[index])\n",
    "    else :\n",
    "        cluster2.append(X_train[index])\n",
    "\n",
    "# Number of reviews in different clusters\n",
    "print(\"No. of reviews in Cluster-1 : \",len(cluster1))\n",
    "print(\"\\nNo. of reviews in Cluster-2 : \",len(cluster2))"
   ]
  },
  {
   "cell_type": "markdown",
   "metadata": {},
   "source": [
    "Reading Reviews Manually"
   ]
  },
  {
   "cell_type": "code",
   "execution_count": 47,
   "metadata": {},
   "outputs": [
    {
     "name": "stdout",
     "output_type": "stream",
     "text": [
      "Review - 1 \n",
      " ive eaten crown princ sardin tomato past leas yrs tri brand avail product deliv well box time ron\n",
      "Review - 2 \n",
      " cant say anyth qualiti tast textur touch smell substanc general qualiti product unfortun found order receiv product manufactur facil use tree nut soy appreci fact manufactur mention packag would help great inform note product inform page check amazon page mention incred import inform without famili member suffer peanut tree nut allergi mani live challeng steer clear product would also hesit purchas product manufactur without first verifi product manufactur facil use tree nut wait check websit there singl refer allergen gluten product actual seem rather ampl offer product good littl allergi last dont expect everi product free peanut tree nut expect manufactur make known ingredi product use facil ingredi use product unfortun bob red mill done neither websit product page amazon could return product anoth box origin one alreadi thrown much troubl hassl thank bob\n",
      "Review - 3 \n",
      " spot local gourmet suppli shopp never heard wild oliv oil came home research first thing found line oliv oil use exclus one world best restaur celler roca michelin star girona spain proprietor celebr joan roca got attent found compani websit amaz detail process harvest process wild organ oliv wild organ oliv oil come point spain largest river ebro flow catalonia number artifici lake creat last centuri generat electr arid slope metr high near villag riba roja debr grow numer stubbi arbequina oliv tree small contort often old uniqu advantag altitud incid infam white fli dacus olei present big challeng organ oliv farmer lower altitud mean solivera grow certifi oliv without use pesticid harvest wild organ oliv oil press one last remain tradit stone mill spain oliv ground huge granit wheel press pile round straw mat oil decant graviti larg masonri cistern arm inform could gather went back shopp bought bottl amaz stuff along fresh french bread made beelin home say god olympus must sure bottl dine tabl good light earthi medium bodi full flavor fruiti great dip salad finish price reason ive alway fan spanish oliv oil even attach thank wonder peopl solivera dot com great background inform amaz gift culinari world pit\n"
     ]
    }
   ],
   "source": [
    "# some reviews of cluster1\n",
    "for i in range(3):\n",
    "    print('Review -',i+1,\"\\n\",cluster1[i])"
   ]
  },
  {
   "cell_type": "code",
   "execution_count": 48,
   "metadata": {},
   "outputs": [
    {
     "name": "stdout",
     "output_type": "stream",
     "text": [
      "Review - 1 \n",
      " blend spice extract supris amount flavor depth unlik mani popular steak season yet subtl enough enhanc instead overwhelm cover meat natur flavor definit tast invit aroma spice first chew immidiat afterward flavor meat sip take absolut becom favorit season steak meat general even kinda work nice fish bad news reason paticular mccormick season grinder disappear shelf popular groceri chain yet went mccormick websit doesnt appear theyv stop make quit mysteri gotten hard find day current somewhat reliabl way obtain internet buy small pack chanc youv gotten tast start buy pack\n",
      "Review - 2 \n",
      " stuff terribl dont think sugar free margarita tast like made gatorad appreci review need sugar free high mark led buy think good\n",
      "Review - 3 \n",
      " look someth give energi wasnt drink keep get weigh gum fix look time work drive long distanc start fade drag work need kick true pant pop two piec feel like champ\n"
     ]
    }
   ],
   "source": [
    "# some reviews of cluster2\n",
    "for i in range(3):\n",
    "    print('Review -',i+1,\"\\n\",cluster2[i])"
   ]
  },
  {
   "cell_type": "markdown",
   "metadata": {},
   "source": [
    "# Hiearachical Clustering with 5 Cluster"
   ]
  },
  {
   "cell_type": "code",
   "execution_count": 49,
   "metadata": {},
   "outputs": [
    {
     "name": "stdout",
     "output_type": "stream",
     "text": [
      "No. of reviews in Cluster-1 :  981\n",
      "\n",
      "No. of reviews in Cluster-2 :  1048\n",
      "\n",
      "No. of reviews in Cluster-3 :  2269\n",
      "\n",
      "No. of reviews in Cluster-4 :  581\n",
      "\n",
      "No. of reviews in Cluster-5 :  121\n"
     ]
    }
   ],
   "source": [
    "from sklearn.cluster import AgglomerativeClustering\n",
    "Data=X_train_avgw2v\n",
    "# cluster=5\n",
    "clustering = AgglomerativeClustering(n_clusters=5).fit(Data)\n",
    "\n",
    "cluster1=[]\n",
    "cluster2=[]\n",
    "cluster3=[]\n",
    "cluster4=[]\n",
    "cluster5=[]\n",
    "\n",
    "n=clustering.labels_.shape[0]\n",
    "\n",
    "for index in range(n):\n",
    "    if clustering.labels_[index]==0:\n",
    "        cluster1.append(X_train[index])\n",
    "    elif clustering.labels_[index]==1:\n",
    "        cluster2.append(X_train[index])\n",
    "    elif clustering.labels_[index]==2:\n",
    "        cluster3.append(X_train[index])\n",
    "    elif clustering.labels_[index]==3:\n",
    "        cluster4.append(X_train[index])\n",
    "    else :\n",
    "        cluster5.append(X_train[index])\n",
    "              \n",
    "# Number of reviews in different clusters\n",
    "print(\"No. of reviews in Cluster-1 : \",len(cluster1))\n",
    "print(\"\\nNo. of reviews in Cluster-2 : \",len(cluster2))\n",
    "print(\"\\nNo. of reviews in Cluster-3 : \",len(cluster3))\n",
    "print(\"\\nNo. of reviews in Cluster-4 : \",len(cluster4))\n",
    "print(\"\\nNo. of reviews in Cluster-5 : \",len(cluster5))"
   ]
  },
  {
   "cell_type": "markdown",
   "metadata": {},
   "source": [
    "Reading Reviews Manually"
   ]
  },
  {
   "cell_type": "code",
   "execution_count": 50,
   "metadata": {},
   "outputs": [
    {
     "name": "stdout",
     "output_type": "stream",
     "text": [
      "Review - 1 \n",
      " blend spice extract supris amount flavor depth unlik mani popular steak season yet subtl enough enhanc instead overwhelm cover meat natur flavor definit tast invit aroma spice first chew immidiat afterward flavor meat sip take absolut becom favorit season steak meat general even kinda work nice fish bad news reason paticular mccormick season grinder disappear shelf popular groceri chain yet went mccormick websit doesnt appear theyv stop make quit mysteri gotten hard find day current somewhat reliabl way obtain internet buy small pack chanc youv gotten tast start buy pack\n",
      "Review - 2 \n",
      " stuff terribl dont think sugar free margarita tast like made gatorad appreci review need sugar free high mark led buy think good\n",
      "Review - 3 \n",
      " look someth give energi wasnt drink keep get weigh gum fix look time work drive long distanc start fade drag work need kick true pant pop two piec feel like champ\n"
     ]
    }
   ],
   "source": [
    "# some reviews of cluster1\n",
    "for i in range(3):\n",
    "    print('Review -',i+1,\"\\n\",cluster1[i])"
   ]
  },
  {
   "cell_type": "code",
   "execution_count": 51,
   "metadata": {},
   "outputs": [
    {
     "name": "stdout",
     "output_type": "stream",
     "text": [
      "Review - 1 \n",
      " spot local gourmet suppli shopp never heard wild oliv oil came home research first thing found line oliv oil use exclus one world best restaur celler roca michelin star girona spain proprietor celebr joan roca got attent found compani websit amaz detail process harvest process wild organ oliv wild organ oliv oil come point spain largest river ebro flow catalonia number artifici lake creat last centuri generat electr arid slope metr high near villag riba roja debr grow numer stubbi arbequina oliv tree small contort often old uniqu advantag altitud incid infam white fli dacus olei present big challeng organ oliv farmer lower altitud mean solivera grow certifi oliv without use pesticid harvest wild organ oliv oil press one last remain tradit stone mill spain oliv ground huge granit wheel press pile round straw mat oil decant graviti larg masonri cistern arm inform could gather went back shopp bought bottl amaz stuff along fresh french bread made beelin home say god olympus must sure bottl dine tabl good light earthi medium bodi full flavor fruiti great dip salad finish price reason ive alway fan spanish oliv oil even attach thank wonder peopl solivera dot com great background inform amaz gift culinari world pit\n",
      "Review - 2 \n",
      " fact haribo gummi bear vari tast depend theyr produc sweet shini slimi other wonder flavor even flavor like least tast great problem mini bag disappear quicker imagin enjoy\n",
      "Review - 3 \n",
      " tasti chocol use seem like high qualiti provid perfect ad layer tast sweet confect melt mouth wow ever realli look like mushroom theyr quit impress way got substanti discount warehous deal otherwis theyr expens your got coin theyr worth\n"
     ]
    }
   ],
   "source": [
    "# some reviews of cluster2\n",
    "for i in range(3):\n",
    "    print('Review -',i+1,\"\\n\",cluster2[i])"
   ]
  },
  {
   "cell_type": "code",
   "execution_count": 52,
   "metadata": {},
   "outputs": [
    {
     "name": "stdout",
     "output_type": "stream",
     "text": [
      "Review - 1 \n",
      " ive eaten crown princ sardin tomato past leas yrs tri brand avail product deliv well box time ron\n",
      "Review - 2 \n",
      " cant say anyth qualiti tast textur touch smell substanc general qualiti product unfortun found order receiv product manufactur facil use tree nut soy appreci fact manufactur mention packag would help great inform note product inform page check amazon page mention incred import inform without famili member suffer peanut tree nut allergi mani live challeng steer clear product would also hesit purchas product manufactur without first verifi product manufactur facil use tree nut wait check websit there singl refer allergen gluten product actual seem rather ampl offer product good littl allergi last dont expect everi product free peanut tree nut expect manufactur make known ingredi product use facil ingredi use product unfortun bob red mill done neither websit product page amazon could return product anoth box origin one alreadi thrown much troubl hassl thank bob\n",
      "Review - 3 \n",
      " peopl think best tast shish bob must marin night sauc marin prepar meat veggi pineappl skewer ever like stack bob throw grill start bast sweet smokey time bob done sweet smokey sauc caram stop eat mani use sauc versatil wrong purchas\n"
     ]
    }
   ],
   "source": [
    "# some reviews of cluster3\n",
    "for i in range(3):\n",
    "    print('Review -',i+1,\"\\n\",cluster3[i])"
   ]
  },
  {
   "cell_type": "code",
   "execution_count": 53,
   "metadata": {},
   "outputs": [
    {
     "name": "stdout",
     "output_type": "stream",
     "text": [
      "Review - 1 \n",
      " suffer ibd inflammatori bowel diseas number year discov horror synthet ingredi carrageean guar gum major reason disord carrageean guar gum known carcinogen contribut inflammatori condit intestin read report cornucopia org sinc elimin food contain ingredi specif carrageean small intestin colon begun heal year doctor thought inflamm allergi relat wheat gluten relat suspect synthet carageean ingredi googl danger carrageean understand inflam colon contribut ibd ib crohn colon cancer horribl ingredi also milk dairi product pet food pleas read label buy product anyway coconut milk bit challeng use yes tast great know coconut ingredi wont inflam gut say coconut milk ive research contain horribl carrageean ingredi stay away read everi label peac\n",
      "Review - 2 \n",
      " must honest buy amazon first time dont sell around hous find somewher get perfect mix flavor heat never better sauc\n",
      "Review - 3 \n",
      " ive spent lot year drink diet drink get better shape cut sugar realiz carbon diet drink tend make stomach burn feel similar hunger convert drink find lot easier avoid snack drink doesnt make feel like reach snack ive diet green tea youv lipton lemon entir differ calori free slight honey tast made splenda dont high acid aftertast ive diet green tea doesnt tast like regular tea doesnt telltal green tea tast other drink stuff help satiat thirst curb hunger problem solv\n"
     ]
    }
   ],
   "source": [
    "# some reviews of cluster4\n",
    "for i in range(3):\n",
    "    print('Review -',i+1,\"\\n\",cluster4[i])"
   ]
  },
  {
   "cell_type": "code",
   "execution_count": 54,
   "metadata": {},
   "outputs": [
    {
     "name": "stdout",
     "output_type": "stream",
     "text": [
      "Review - 1 \n",
      " bone last realli long time dog love dont get much dog love fill\n",
      "Review - 2 \n",
      " hard find spitz store area arent dill pickl flavor hubbi doesnt like found good price excit yummi\n",
      "Review - 3 \n",
      " qualiti flavor tea worth time price order sup prize origin purchas get tin new tea rack transfer price tea tin go wait use first\n"
     ]
    }
   ],
   "source": [
    "# some reviews of cluster5\n",
    "for i in range(3):\n",
    "    print('Review -',i+1,\"\\n\",cluster5[i])"
   ]
  },
  {
   "cell_type": "markdown",
   "metadata": {},
   "source": [
    "# Hiearachical Clustering with 10 Cluster"
   ]
  },
  {
   "cell_type": "code",
   "execution_count": 55,
   "metadata": {},
   "outputs": [
    {
     "name": "stdout",
     "output_type": "stream",
     "text": [
      "No. of reviews in Cluster-1 :  689\n",
      "\n",
      "No. of reviews in Cluster-2 :  1030\n",
      "\n",
      "No. of reviews in Cluster-3 :  496\n",
      "\n",
      "No. of reviews in Cluster-4 :  581\n",
      "\n",
      "No. of reviews in Cluster-5 :  187\n",
      "No. of reviews in Cluster-6 :  740\n",
      "\n",
      "No. of reviews in Cluster-7 :  550\n",
      "\n",
      "No. of reviews in Cluster-8 :  298\n",
      "\n",
      "No. of reviews in Cluster-9 :  308\n",
      "\n",
      "No. of reviews in Cluster-10 :  121\n"
     ]
    }
   ],
   "source": [
    "from sklearn.cluster import AgglomerativeClustering\n",
    "Data=X_train_avgw2v\n",
    "# cluster=10\n",
    "clustering = AgglomerativeClustering(n_clusters=10).fit(Data)\n",
    "\n",
    "cluster1=[]\n",
    "cluster2=[]\n",
    "cluster3=[]\n",
    "cluster4=[]\n",
    "cluster5=[]\n",
    "cluster6=[]\n",
    "cluster7=[]\n",
    "cluster8=[]\n",
    "cluster9=[]\n",
    "cluster10=[]\n",
    "\n",
    "n=clustering.labels_.shape[0]\n",
    "\n",
    "for index in range(n):\n",
    "    if clustering.labels_[index]==0:\n",
    "        cluster1.append(X_train[index])\n",
    "    elif clustering.labels_[index]==1:\n",
    "        cluster2.append(X_train[index])\n",
    "    elif clustering.labels_[index]==2:\n",
    "        cluster3.append(X_train[index])\n",
    "    elif clustering.labels_[index]==3:\n",
    "        cluster4.append(X_train[index])\n",
    "    elif clustering.labels_[index]==4:\n",
    "        cluster5.append(X_train[index])\n",
    "    elif clustering.labels_[index]==5:\n",
    "        cluster6.append(X_train[index])\n",
    "    elif clustering.labels_[index]==6:\n",
    "        cluster7.append(X_train[index])\n",
    "    elif clustering.labels_[index]==7:\n",
    "        cluster8.append(X_train[index])\n",
    "    elif clustering.labels_[index]==8:\n",
    "        cluster9.append(X_train[index])\n",
    "    else :\n",
    "        cluster10.append(X_train[index])\n",
    "              \n",
    "# Number of reviews in different clusters\n",
    "print(\"No. of reviews in Cluster-1 : \",len(cluster1))\n",
    "print(\"\\nNo. of reviews in Cluster-2 : \",len(cluster2))\n",
    "print(\"\\nNo. of reviews in Cluster-3 : \",len(cluster3))\n",
    "print(\"\\nNo. of reviews in Cluster-4 : \",len(cluster4))\n",
    "print(\"\\nNo. of reviews in Cluster-5 : \",len(cluster5))\n",
    "print(\"No. of reviews in Cluster-6 : \", len(cluster6))\n",
    "print(\"\\nNo. of reviews in Cluster-7 : \",len(cluster7))\n",
    "print(\"\\nNo. of reviews in Cluster-8 : \",len(cluster8))\n",
    "print(\"\\nNo. of reviews in Cluster-9 : \",len(cluster9))\n",
    "print(\"\\nNo. of reviews in Cluster-10 : \",len(cluster10))"
   ]
  },
  {
   "cell_type": "markdown",
   "metadata": {},
   "source": [
    "Reading Reviews Manually"
   ]
  },
  {
   "cell_type": "code",
   "execution_count": 56,
   "metadata": {},
   "outputs": [
    {
     "name": "stdout",
     "output_type": "stream",
     "text": [
      "Review - 1 \n",
      " ive eaten crown princ sardin tomato past leas yrs tri brand avail product deliv well box time ron\n",
      "Review - 2 \n",
      " becom breakfast stapl home near everi sunday morn make pancak weve got vermont mapel syrup egg sausag bacon set day light dinner use bettermilk absolut best result\n",
      "Review - 3 \n",
      " purchas pound pound dark roast varieti see compar big fan costa rican coffe say light roast bean cafe britt way crisp citrusi flavor pronounc lighter roast dark roast version general found flavor balanc way around cleaner vibrant finish solid morn coffe plenti caffein keep go acid hard avoid costa rican coffe level make regret drink later drink lot coffe still crave later day your fenc costa rican coffe buy high recommend one\n"
     ]
    }
   ],
   "source": [
    "# some reviews of cluster1\n",
    "for i in range(3):\n",
    "    print('Review -',i+1,\"\\n\",cluster1[i])"
   ]
  },
  {
   "cell_type": "code",
   "execution_count": 57,
   "metadata": {},
   "outputs": [
    {
     "name": "stdout",
     "output_type": "stream",
     "text": [
      "Review - 1 \n",
      " cant say anyth qualiti tast textur touch smell substanc general qualiti product unfortun found order receiv product manufactur facil use tree nut soy appreci fact manufactur mention packag would help great inform note product inform page check amazon page mention incred import inform without famili member suffer peanut tree nut allergi mani live challeng steer clear product would also hesit purchas product manufactur without first verifi product manufactur facil use tree nut wait check websit there singl refer allergen gluten product actual seem rather ampl offer product good littl allergi last dont expect everi product free peanut tree nut expect manufactur make known ingredi product use facil ingredi use product unfortun bob red mill done neither websit product page amazon could return product anoth box origin one alreadi thrown much troubl hassl thank bob\n",
      "Review - 2 \n",
      " peopl think best tast shish bob must marin night sauc marin prepar meat veggi pineappl skewer ever like stack bob throw grill start bast sweet smokey time bob done sweet smokey sauc caram stop eat mani use sauc versatil wrong purchas\n",
      "Review - 3 \n",
      " delici whole famili love yet difficult find local store sodium serv whole wheat make bit healthier averag cracker hint salt triscuit excel wheat thin particular favorit hous stock may find disappear quick\n"
     ]
    }
   ],
   "source": [
    "# some reviews of cluster2\n",
    "for i in range(3):\n",
    "    print('Review -',i+1,\"\\n\",cluster2[i])"
   ]
  },
  {
   "cell_type": "code",
   "execution_count": 58,
   "metadata": {},
   "outputs": [
    {
     "name": "stdout",
     "output_type": "stream",
     "text": [
      "Review - 1 \n",
      " blend spice extract supris amount flavor depth unlik mani popular steak season yet subtl enough enhanc instead overwhelm cover meat natur flavor definit tast invit aroma spice first chew immidiat afterward flavor meat sip take absolut becom favorit season steak meat general even kinda work nice fish bad news reason paticular mccormick season grinder disappear shelf popular groceri chain yet went mccormick websit doesnt appear theyv stop make quit mysteri gotten hard find day current somewhat reliabl way obtain internet buy small pack chanc youv gotten tast start buy pack\n",
      "Review - 2 \n",
      " stuff terribl dont think sugar free margarita tast like made gatorad appreci review need sugar free high mark led buy think good\n",
      "Review - 3 \n",
      " look someth give energi wasnt drink keep get weigh gum fix look time work drive long distanc start fade drag work need kick true pant pop two piec feel like champ\n"
     ]
    }
   ],
   "source": [
    "# some reviews of cluster3\n",
    "for i in range(3):\n",
    "    print('Review -',i+1,\"\\n\",cluster3[i])"
   ]
  },
  {
   "cell_type": "code",
   "execution_count": 59,
   "metadata": {},
   "outputs": [
    {
     "name": "stdout",
     "output_type": "stream",
     "text": [
      "Review - 1 \n",
      " suffer ibd inflammatori bowel diseas number year discov horror synthet ingredi carrageean guar gum major reason disord carrageean guar gum known carcinogen contribut inflammatori condit intestin read report cornucopia org sinc elimin food contain ingredi specif carrageean small intestin colon begun heal year doctor thought inflamm allergi relat wheat gluten relat suspect synthet carageean ingredi googl danger carrageean understand inflam colon contribut ibd ib crohn colon cancer horribl ingredi also milk dairi product pet food pleas read label buy product anyway coconut milk bit challeng use yes tast great know coconut ingredi wont inflam gut say coconut milk ive research contain horribl carrageean ingredi stay away read everi label peac\n",
      "Review - 2 \n",
      " must honest buy amazon first time dont sell around hous find somewher get perfect mix flavor heat never better sauc\n",
      "Review - 3 \n",
      " ive spent lot year drink diet drink get better shape cut sugar realiz carbon diet drink tend make stomach burn feel similar hunger convert drink find lot easier avoid snack drink doesnt make feel like reach snack ive diet green tea youv lipton lemon entir differ calori free slight honey tast made splenda dont high acid aftertast ive diet green tea doesnt tast like regular tea doesnt telltal green tea tast other drink stuff help satiat thirst curb hunger problem solv\n"
     ]
    }
   ],
   "source": [
    "# some reviews of cluster4\n",
    "for i in range(3):\n",
    "    print('Review -',i+1,\"\\n\",cluster4[i])"
   ]
  },
  {
   "cell_type": "code",
   "execution_count": 60,
   "metadata": {},
   "outputs": [
    {
     "name": "stdout",
     "output_type": "stream",
     "text": [
      "Review - 1 \n",
      " simpl cage feeder woodpeck grackl power seed cake feeder also attract wren dont care hang upsid hesit replac feeder feeder though would thwart grackl cake less expens one buy previous seem bit harder discourag grackl least littl still attract woodpeck wren\n",
      "Review - 2 \n",
      " love individu bottl water picki drink green white tea version would moon\n",
      "Review - 3 \n",
      " love coffe flavor candi figur would right alley opinion coffe candi best three fill noth fanci nice rich yummi coffe flavor latt candi would second favorit sweet milki center tast nice slight chalki textur espresso candi wasnt great gooey coffe center flavor good didnt like textur fill anoth issu espresso mani one assort broken make sticki ined mess insid wrapper coffe latt flavor unbroken regret order assort futur ill stick order coffe candi pass espresso latt\n"
     ]
    }
   ],
   "source": [
    "# some reviews of cluster5\n",
    "for i in range(3):\n",
    "    print('Review -',i+1,\"\\n\",cluster5[i])"
   ]
  },
  {
   "cell_type": "code",
   "execution_count": 61,
   "metadata": {},
   "outputs": [
    {
     "name": "stdout",
     "output_type": "stream",
     "text": [
      "Review - 1 \n",
      " fact haribo gummi bear vari tast depend theyr produc sweet shini slimi other wonder flavor even flavor like least tast great problem mini bag disappear quicker imagin enjoy\n",
      "Review - 2 \n",
      " tasti chocol use seem like high qualiti provid perfect ad layer tast sweet confect melt mouth wow ever realli look like mushroom theyr quit impress way got substanti discount warehous deal otherwis theyr expens your got coin theyr worth\n",
      "Review - 3 \n",
      " udi best tast gluten free bread sometim hard find store get amazon great cheaper loaf\n"
     ]
    }
   ],
   "source": [
    "# some reviews of cluster6\n",
    "for i in range(3):\n",
    "    print('Review -',i+1,\"\\n\",cluster6[i])"
   ]
  },
  {
   "cell_type": "code",
   "execution_count": 62,
   "metadata": {},
   "outputs": [
    {
     "name": "stdout",
     "output_type": "stream",
     "text": [
      "Review - 1 \n",
      " love came well packag none broken melt chocol actual tast good fill chocol mouss bridal shower ador littl smaller expect perfect snack probabl easier smaller could fit whole thing mouth anyway less messi way\n"
     ]
    }
   ],
   "source": [
    "# some reviews of cluster7\n",
    "for i in range(1):\n",
    "    print('Review -',i+1,\"\\n\",cluster7[i])"
   ]
  },
  {
   "cell_type": "code",
   "execution_count": 63,
   "metadata": {},
   "outputs": [
    {
     "name": "stdout",
     "output_type": "stream",
     "text": [
      "Review - 1 \n",
      " spend day work texa summer sun year ive issu hydrat could drink gallon water day troubl replenish electrolyt various sport drink caus stomach troubl expens got older problem chronic dehydr becam sever wake intens leg back foot cramp would take hour relax final found answer drink nuun tablet per day last month havent singl attack leg cramp sinc use tablet per gallon plenti need great product reason price add flavor tea mix freez overnight delic hint berri tast fine\n",
      "Review - 2 \n",
      " love jamaican crazi coffe smooth rich hint vanilla caramel whole bean coffe grinder total worth\n",
      "Review - 3 \n",
      " usual dont write food review well one man meat anoth man poison say goe actual stumbl upon cooki whim pick packag mark clearanc target sinc daughter fight unfortun longer find target guess buy pack amazon never mind suppos store cool basement tri eat mani day cooki cost calori pretti much mean eat cooki per day sensit food addit alway detect chemic natur food kashi one bite could tell none cooki also import gentl cooki much sweet think also go tri back natur graham cooki amazon sinc got rave review definit sold brand\n"
     ]
    }
   ],
   "source": [
    "# some reviews of cluster8\n",
    "for i in range(3):\n",
    "    print('Review -',i+1,\"\\n\",cluster8[i])"
   ]
  },
  {
   "cell_type": "code",
   "execution_count": 64,
   "metadata": {},
   "outputs": [
    {
     "name": "stdout",
     "output_type": "stream",
     "text": [
      "Review - 1 \n",
      " spot local gourmet suppli shopp never heard wild oliv oil came home research first thing found line oliv oil use exclus one world best restaur celler roca michelin star girona spain proprietor celebr joan roca got attent found compani websit amaz detail process harvest process wild organ oliv wild organ oliv oil come point spain largest river ebro flow catalonia number artifici lake creat last centuri generat electr arid slope metr high near villag riba roja debr grow numer stubbi arbequina oliv tree small contort often old uniqu advantag altitud incid infam white fli dacus olei present big challeng organ oliv farmer lower altitud mean solivera grow certifi oliv without use pesticid harvest wild organ oliv oil press one last remain tradit stone mill spain oliv ground huge granit wheel press pile round straw mat oil decant graviti larg masonri cistern arm inform could gather went back shopp bought bottl amaz stuff along fresh french bread made beelin home say god olympus must sure bottl dine tabl good light earthi medium bodi full flavor fruiti great dip salad finish price reason ive alway fan spanish oliv oil even attach thank wonder peopl solivera dot com great background inform amaz gift culinari world pit\n",
      "Review - 2 \n",
      " dont like lot kitchen counter clutter happi find product read bunch review ahead time went ahead secur screw wouldnt anywher love thing much bought second one husband coffe holder design sleek love abl bunch differ flavor coffe right keurig without pile differ box counter one tip would like pass open close holder use front bar otherwis cockey close flat\n",
      "Review - 3 \n",
      " ive eat year sinc salerno mint creme ive tri mani other noth quit come close especi kept refriger appar rippin good bought salerno exact salerno version even box almost ident rememb love salerno mint creme want except place wisconsin seem avail amazon thank rippin good compani offer particular item six box box cooki note sold amazon item typic sell less sometim sale around\n"
     ]
    }
   ],
   "source": [
    "# some reviews of cluster9\n",
    "for i in range(3):\n",
    "    print('Review -',i+1,\"\\n\",cluster9[i])"
   ]
  },
  {
   "cell_type": "code",
   "execution_count": 65,
   "metadata": {},
   "outputs": [
    {
     "name": "stdout",
     "output_type": "stream",
     "text": [
      "Review - 1 \n",
      " bone last realli long time dog love dont get much dog love fill\n",
      "Review - 2 \n",
      " hard find spitz store area arent dill pickl flavor hubbi doesnt like found good price excit yummi\n",
      "Review - 3 \n",
      " qualiti flavor tea worth time price order sup prize origin purchas get tin new tea rack transfer price tea tin go wait use first\n"
     ]
    }
   ],
   "source": [
    "# some reviews of cluster10\n",
    "for i in range(3):\n",
    "    print('Review -',i+1,\"\\n\",cluster10[i])"
   ]
  },
  {
   "cell_type": "markdown",
   "metadata": {},
   "source": [
    "# TF-IDFW2V"
   ]
  },
  {
   "cell_type": "code",
   "execution_count": 74,
   "metadata": {},
   "outputs": [],
   "source": [
    "X_train_tfidfw2v = []\n",
    "with open(\"X_train_tfidfw2v.txt\", \"r\") as f:\n",
    "    str1 = ''\n",
    "    for line in f:\n",
    "        if(']' in line):\n",
    "            str1 = str1+line\n",
    "            len1 = len(str1)\n",
    "            X_train_tfidfw2v.append(list(np.float64(x) for x in str1[1:len1-1].strip(']').split()))\n",
    "            str1 = ''\n",
    "        else :\n",
    "            str1 = str1+line\n",
    "\n",
    "X_train_tfidfw2v=X_train_tfidfw2v[0:5000]"
   ]
  },
  {
   "cell_type": "markdown",
   "metadata": {},
   "source": [
    "# Hierarchical Clustering with 2 Cluster"
   ]
  },
  {
   "cell_type": "code",
   "execution_count": 76,
   "metadata": {},
   "outputs": [
    {
     "name": "stdout",
     "output_type": "stream",
     "text": [
      "No. of reviews in Cluster-1 :  4367\n",
      "\n",
      "No. of reviews in Cluster-2 :  633\n"
     ]
    }
   ],
   "source": [
    "from sklearn.cluster import AgglomerativeClustering\n",
    "Data=X_train_tfidfw2v\n",
    "# cluster=2 by default\n",
    "clustering = AgglomerativeClustering().fit(Data)\n",
    "\n",
    "cluster1=[]\n",
    "cluster2=[]\n",
    "n=clustering.labels_.shape[0]\n",
    "\n",
    "for index in range(n):\n",
    "    if clustering.labels_[index]==0:\n",
    "        cluster1.append(X_train[index])\n",
    "    else :\n",
    "        cluster2.append(X_train[index])\n",
    "\n",
    "# Number of reviews in different clusters\n",
    "print(\"No. of reviews in Cluster-1 : \",len(cluster1))\n",
    "print(\"\\nNo. of reviews in Cluster-2 : \",len(cluster2))"
   ]
  },
  {
   "cell_type": "markdown",
   "metadata": {},
   "source": [
    "Reading Reviews Manually"
   ]
  },
  {
   "cell_type": "code",
   "execution_count": 77,
   "metadata": {},
   "outputs": [
    {
     "name": "stdout",
     "output_type": "stream",
     "text": [
      "Review - 1 \n",
      " ive eaten crown princ sardin tomato past leas yrs tri brand avail product deliv well box time ron\n",
      "Review - 2 \n",
      " cant say anyth qualiti tast textur touch smell substanc general qualiti product unfortun found order receiv product manufactur facil use tree nut soy appreci fact manufactur mention packag would help great inform note product inform page check amazon page mention incred import inform without famili member suffer peanut tree nut allergi mani live challeng steer clear product would also hesit purchas product manufactur without first verifi product manufactur facil use tree nut wait check websit there singl refer allergen gluten product actual seem rather ampl offer product good littl allergi last dont expect everi product free peanut tree nut expect manufactur make known ingredi product use facil ingredi use product unfortun bob red mill done neither websit product page amazon could return product anoth box origin one alreadi thrown much troubl hassl thank bob\n",
      "Review - 3 \n",
      " spot local gourmet suppli shopp never heard wild oliv oil came home research first thing found line oliv oil use exclus one world best restaur celler roca michelin star girona spain proprietor celebr joan roca got attent found compani websit amaz detail process harvest process wild organ oliv wild organ oliv oil come point spain largest river ebro flow catalonia number artifici lake creat last centuri generat electr arid slope metr high near villag riba roja debr grow numer stubbi arbequina oliv tree small contort often old uniqu advantag altitud incid infam white fli dacus olei present big challeng organ oliv farmer lower altitud mean solivera grow certifi oliv without use pesticid harvest wild organ oliv oil press one last remain tradit stone mill spain oliv ground huge granit wheel press pile round straw mat oil decant graviti larg masonri cistern arm inform could gather went back shopp bought bottl amaz stuff along fresh french bread made beelin home say god olympus must sure bottl dine tabl good light earthi medium bodi full flavor fruiti great dip salad finish price reason ive alway fan spanish oliv oil even attach thank wonder peopl solivera dot com great background inform amaz gift culinari world pit\n"
     ]
    }
   ],
   "source": [
    "# some reviews of cluster1\n",
    "for i in range(3):\n",
    "    print('Review -',i+1,\"\\n\",cluster1[i])"
   ]
  },
  {
   "cell_type": "code",
   "execution_count": 78,
   "metadata": {},
   "outputs": [
    {
     "name": "stdout",
     "output_type": "stream",
     "text": [
      "Review - 1 \n",
      " tasti chocol use seem like high qualiti provid perfect ad layer tast sweet confect melt mouth wow ever realli look like mushroom theyr quit impress way got substanti discount warehous deal otherwis theyr expens your got coin theyr worth\n",
      "Review - 2 \n",
      " interstiti cystiti unabl chocol depress tri find chocol substitut noth seem give chocol fix found wonder product chatfield carob powder closest thing tast chocol believ tri mani mani brand favorit recip far includ carob latt recip back browni carob cooki husband picki said wouldnt told carob would never known unabl eat chocol want healthier version high recommend\n",
      "Review - 3 \n",
      " blend spice extract supris amount flavor depth unlik mani popular steak season yet subtl enough enhanc instead overwhelm cover meat natur flavor definit tast invit aroma spice first chew immidiat afterward flavor meat sip take absolut becom favorit season steak meat general even kinda work nice fish bad news reason paticular mccormick season grinder disappear shelf popular groceri chain yet went mccormick websit doesnt appear theyv stop make quit mysteri gotten hard find day current somewhat reliabl way obtain internet buy small pack chanc youv gotten tast start buy pack\n"
     ]
    }
   ],
   "source": [
    "# some reviews of cluster2\n",
    "for i in range(3):\n",
    "    print('Review -',i+1,\"\\n\",cluster2[i])"
   ]
  },
  {
   "cell_type": "markdown",
   "metadata": {},
   "source": [
    "# Hiearachical Clustering with 5 Cluster"
   ]
  },
  {
   "cell_type": "code",
   "execution_count": 79,
   "metadata": {},
   "outputs": [
    {
     "name": "stdout",
     "output_type": "stream",
     "text": [
      "No. of reviews in Cluster-1 :  633\n",
      "\n",
      "No. of reviews in Cluster-2 :  1681\n",
      "\n",
      "No. of reviews in Cluster-3 :  2111\n",
      "\n",
      "No. of reviews in Cluster-4 :  509\n",
      "\n",
      "No. of reviews in Cluster-5 :  66\n"
     ]
    }
   ],
   "source": [
    "from sklearn.cluster import AgglomerativeClustering\n",
    "Data=X_train_tfidfw2v\n",
    "# cluster=5\n",
    "clustering = AgglomerativeClustering(n_clusters=5).fit(Data)\n",
    "\n",
    "cluster1=[]\n",
    "cluster2=[]\n",
    "cluster3=[]\n",
    "cluster4=[]\n",
    "cluster5=[]\n",
    "\n",
    "n=clustering.labels_.shape[0]\n",
    "\n",
    "for index in range(n):\n",
    "    if clustering.labels_[index]==0:\n",
    "        cluster1.append(X_train[index])\n",
    "    elif clustering.labels_[index]==1:\n",
    "        cluster2.append(X_train[index])\n",
    "    elif clustering.labels_[index]==2:\n",
    "        cluster3.append(X_train[index])\n",
    "    elif clustering.labels_[index]==3:\n",
    "        cluster4.append(X_train[index])\n",
    "    else :\n",
    "        cluster5.append(X_train[index])\n",
    "              \n",
    "# Number of reviews in different clusters\n",
    "print(\"No. of reviews in Cluster-1 : \",len(cluster1))\n",
    "print(\"\\nNo. of reviews in Cluster-2 : \",len(cluster2))\n",
    "print(\"\\nNo. of reviews in Cluster-3 : \",len(cluster3))\n",
    "print(\"\\nNo. of reviews in Cluster-4 : \",len(cluster4))\n",
    "print(\"\\nNo. of reviews in Cluster-5 : \",len(cluster5))"
   ]
  },
  {
   "cell_type": "markdown",
   "metadata": {},
   "source": [
    "Reading Reviews Manually"
   ]
  },
  {
   "cell_type": "code",
   "execution_count": 80,
   "metadata": {},
   "outputs": [
    {
     "name": "stdout",
     "output_type": "stream",
     "text": [
      "Review - 1 \n",
      " tasti chocol use seem like high qualiti provid perfect ad layer tast sweet confect melt mouth wow ever realli look like mushroom theyr quit impress way got substanti discount warehous deal otherwis theyr expens your got coin theyr worth\n",
      "Review - 2 \n",
      " interstiti cystiti unabl chocol depress tri find chocol substitut noth seem give chocol fix found wonder product chatfield carob powder closest thing tast chocol believ tri mani mani brand favorit recip far includ carob latt recip back browni carob cooki husband picki said wouldnt told carob would never known unabl eat chocol want healthier version high recommend\n",
      "Review - 3 \n",
      " blend spice extract supris amount flavor depth unlik mani popular steak season yet subtl enough enhanc instead overwhelm cover meat natur flavor definit tast invit aroma spice first chew immidiat afterward flavor meat sip take absolut becom favorit season steak meat general even kinda work nice fish bad news reason paticular mccormick season grinder disappear shelf popular groceri chain yet went mccormick websit doesnt appear theyv stop make quit mysteri gotten hard find day current somewhat reliabl way obtain internet buy small pack chanc youv gotten tast start buy pack\n"
     ]
    }
   ],
   "source": [
    "# some reviews of cluster1\n",
    "for i in range(3):\n",
    "    print('Review -',i+1,\"\\n\",cluster1[i])"
   ]
  },
  {
   "cell_type": "code",
   "execution_count": 81,
   "metadata": {},
   "outputs": [
    {
     "name": "stdout",
     "output_type": "stream",
     "text": [
      "Review - 1 \n",
      " spot local gourmet suppli shopp never heard wild oliv oil came home research first thing found line oliv oil use exclus one world best restaur celler roca michelin star girona spain proprietor celebr joan roca got attent found compani websit amaz detail process harvest process wild organ oliv wild organ oliv oil come point spain largest river ebro flow catalonia number artifici lake creat last centuri generat electr arid slope metr high near villag riba roja debr grow numer stubbi arbequina oliv tree small contort often old uniqu advantag altitud incid infam white fli dacus olei present big challeng organ oliv farmer lower altitud mean solivera grow certifi oliv without use pesticid harvest wild organ oliv oil press one last remain tradit stone mill spain oliv ground huge granit wheel press pile round straw mat oil decant graviti larg masonri cistern arm inform could gather went back shopp bought bottl amaz stuff along fresh french bread made beelin home say god olympus must sure bottl dine tabl good light earthi medium bodi full flavor fruiti great dip salad finish price reason ive alway fan spanish oliv oil even attach thank wonder peopl solivera dot com great background inform amaz gift culinari world pit\n",
      "Review - 2 \n",
      " fact haribo gummi bear vari tast depend theyr produc sweet shini slimi other wonder flavor even flavor like least tast great problem mini bag disappear quicker imagin enjoy\n",
      "Review - 3 \n",
      " peopl think best tast shish bob must marin night sauc marin prepar meat veggi pineappl skewer ever like stack bob throw grill start bast sweet smokey time bob done sweet smokey sauc caram stop eat mani use sauc versatil wrong purchas\n"
     ]
    }
   ],
   "source": [
    "# some reviews of cluster2\n",
    "for i in range(3):\n",
    "    print('Review -',i+1,\"\\n\",cluster2[i])"
   ]
  },
  {
   "cell_type": "code",
   "execution_count": 82,
   "metadata": {},
   "outputs": [
    {
     "name": "stdout",
     "output_type": "stream",
     "text": [
      "Review - 1 \n",
      " ive eaten crown princ sardin tomato past leas yrs tri brand avail product deliv well box time ron\n",
      "Review - 2 \n",
      " cant say anyth qualiti tast textur touch smell substanc general qualiti product unfortun found order receiv product manufactur facil use tree nut soy appreci fact manufactur mention packag would help great inform note product inform page check amazon page mention incred import inform without famili member suffer peanut tree nut allergi mani live challeng steer clear product would also hesit purchas product manufactur without first verifi product manufactur facil use tree nut wait check websit there singl refer allergen gluten product actual seem rather ampl offer product good littl allergi last dont expect everi product free peanut tree nut expect manufactur make known ingredi product use facil ingredi use product unfortun bob red mill done neither websit product page amazon could return product anoth box origin one alreadi thrown much troubl hassl thank bob\n",
      "Review - 3 \n",
      " delici whole famili love yet difficult find local store sodium serv whole wheat make bit healthier averag cracker hint salt triscuit excel wheat thin particular favorit hous stock may find disappear quick\n"
     ]
    }
   ],
   "source": [
    "# some reviews of cluster3\n",
    "for i in range(3):\n",
    "    print('Review -',i+1,\"\\n\",cluster3[i])"
   ]
  },
  {
   "cell_type": "code",
   "execution_count": 83,
   "metadata": {},
   "outputs": [
    {
     "name": "stdout",
     "output_type": "stream",
     "text": [
      "Review - 1 \n",
      " suffer ibd inflammatori bowel diseas number year discov horror synthet ingredi carrageean guar gum major reason disord carrageean guar gum known carcinogen contribut inflammatori condit intestin read report cornucopia org sinc elimin food contain ingredi specif carrageean small intestin colon begun heal year doctor thought inflamm allergi relat wheat gluten relat suspect synthet carageean ingredi googl danger carrageean understand inflam colon contribut ibd ib crohn colon cancer horribl ingredi also milk dairi product pet food pleas read label buy product anyway coconut milk bit challeng use yes tast great know coconut ingredi wont inflam gut say coconut milk ive research contain horribl carrageean ingredi stay away read everi label peac\n",
      "Review - 2 \n",
      " happi purchas look nice hold contain price arriv perfect shape thing dislik product bottom two drawer sometim difficult pull instead glide sort wiggl shimmi realli big deal though minor annoy overal product everyth hope store least favorit flavor bottom difficult pull\n",
      "Review - 3 \n",
      " ive spent lot year drink diet drink get better shape cut sugar realiz carbon diet drink tend make stomach burn feel similar hunger convert drink find lot easier avoid snack drink doesnt make feel like reach snack ive diet green tea youv lipton lemon entir differ calori free slight honey tast made splenda dont high acid aftertast ive diet green tea doesnt tast like regular tea doesnt telltal green tea tast other drink stuff help satiat thirst curb hunger problem solv\n"
     ]
    }
   ],
   "source": [
    "# some reviews of cluster4\n",
    "for i in range(3):\n",
    "    print('Review -',i+1,\"\\n\",cluster4[i])"
   ]
  },
  {
   "cell_type": "code",
   "execution_count": 84,
   "metadata": {},
   "outputs": [
    {
     "name": "stdout",
     "output_type": "stream",
     "text": [
      "Review - 1 \n",
      " hard find spitz store area arent dill pickl flavor hubbi doesnt like found good price excit yummi\n",
      "Review - 2 \n",
      " dog epilepsi requir morn medic even medic capsul work great would reccommend product one\n",
      "Review - 3 \n",
      " greeni dental chew dog petit pack chew bailey get treat leav alon\n"
     ]
    }
   ],
   "source": [
    "# some reviews of cluster5\n",
    "for i in range(3):\n",
    "    print('Review -',i+1,\"\\n\",cluster5[i])"
   ]
  },
  {
   "cell_type": "markdown",
   "metadata": {},
   "source": [
    "# Hieararchical Clustering with 10 Cluster"
   ]
  },
  {
   "cell_type": "code",
   "execution_count": 85,
   "metadata": {},
   "outputs": [
    {
     "name": "stdout",
     "output_type": "stream",
     "text": [
      "No. of reviews in Cluster-1 :  417\n",
      "\n",
      "No. of reviews in Cluster-2 :  1218\n",
      "\n",
      "No. of reviews in Cluster-3 :  584\n",
      "\n",
      "No. of reviews in Cluster-4 :  463\n",
      "\n",
      "No. of reviews in Cluster-5 :  547\n",
      "No. of reviews in Cluster-6 :  216\n",
      "\n",
      "No. of reviews in Cluster-7 :  409\n",
      "\n",
      "No. of reviews in Cluster-8 :  571\n",
      "\n",
      "No. of reviews in Cluster-9 :  509\n",
      "\n",
      "No. of reviews in Cluster-10 :  66\n"
     ]
    }
   ],
   "source": [
    "from sklearn.cluster import AgglomerativeClustering\n",
    "Data=X_train_tfidfw2v\n",
    "# cluster=10\n",
    "clustering = AgglomerativeClustering(n_clusters=10).fit(Data)\n",
    "\n",
    "cluster1=[]\n",
    "cluster2=[]\n",
    "cluster3=[]\n",
    "cluster4=[]\n",
    "cluster5=[]\n",
    "cluster6=[]\n",
    "cluster7=[]\n",
    "cluster8=[]\n",
    "cluster9=[]\n",
    "cluster10=[]\n",
    "\n",
    "n=clustering.labels_.shape[0]\n",
    "\n",
    "for index in range(n):\n",
    "    if clustering.labels_[index]==0:\n",
    "        cluster1.append(X_train[index])\n",
    "    elif clustering.labels_[index]==1:\n",
    "        cluster2.append(X_train[index])\n",
    "    elif clustering.labels_[index]==2:\n",
    "        cluster3.append(X_train[index])\n",
    "    elif clustering.labels_[index]==3:\n",
    "        cluster4.append(X_train[index])\n",
    "    elif clustering.labels_[index]==4:\n",
    "        cluster5.append(X_train[index])\n",
    "    elif clustering.labels_[index]==5:\n",
    "        cluster6.append(X_train[index])\n",
    "    elif clustering.labels_[index]==6:\n",
    "        cluster7.append(X_train[index])\n",
    "    elif clustering.labels_[index]==7:\n",
    "        cluster8.append(X_train[index])\n",
    "    elif clustering.labels_[index]==8:\n",
    "        cluster9.append(X_train[index])\n",
    "    else :\n",
    "        cluster10.append(X_train[index])\n",
    "              \n",
    "# Number of reviews in different clusters\n",
    "print(\"No. of reviews in Cluster-1 : \",len(cluster1))\n",
    "print(\"\\nNo. of reviews in Cluster-2 : \",len(cluster2))\n",
    "print(\"\\nNo. of reviews in Cluster-3 : \",len(cluster3))\n",
    "print(\"\\nNo. of reviews in Cluster-4 : \",len(cluster4))\n",
    "print(\"\\nNo. of reviews in Cluster-5 : \",len(cluster5))\n",
    "print(\"No. of reviews in Cluster-6 : \", len(cluster6))\n",
    "print(\"\\nNo. of reviews in Cluster-7 : \",len(cluster7))\n",
    "print(\"\\nNo. of reviews in Cluster-8 : \",len(cluster8))\n",
    "print(\"\\nNo. of reviews in Cluster-9 : \",len(cluster9))\n",
    "print(\"\\nNo. of reviews in Cluster-10 : \",len(cluster10))"
   ]
  },
  {
   "cell_type": "markdown",
   "metadata": {},
   "source": [
    "Reading Reviews Manually"
   ]
  },
  {
   "cell_type": "code",
   "execution_count": 86,
   "metadata": {},
   "outputs": [
    {
     "name": "stdout",
     "output_type": "stream",
     "text": [
      "Review - 1 \n",
      " interstiti cystiti unabl chocol depress tri find chocol substitut noth seem give chocol fix found wonder product chatfield carob powder closest thing tast chocol believ tri mani mani brand favorit recip far includ carob latt recip back browni carob cooki husband picki said wouldnt told carob would never known unabl eat chocol want healthier version high recommend\n",
      "Review - 2 \n",
      " stuff terribl dont think sugar free margarita tast like made gatorad appreci review need sugar free high mark led buy think good\n",
      "Review - 3 \n",
      " good friend mine race pro europ brought back pack northern franc cours name packag differ love tast fit great jersey pocket excit local sport store sold individu look onlin cant beat price amazon com per box import thing tast good also give energi need polish mile ride find eat one everi hour keep go bulk stuf larger type bar jersey pocket easli get pocket mayb jersey isnt real tight\n"
     ]
    }
   ],
   "source": [
    "# some reviews of cluster1\n",
    "for i in range(3):\n",
    "    print('Review -',i+1,\"\\n\",cluster1[i])"
   ]
  },
  {
   "cell_type": "code",
   "execution_count": 87,
   "metadata": {},
   "outputs": [
    {
     "name": "stdout",
     "output_type": "stream",
     "text": [
      "Review - 1 \n",
      " fact haribo gummi bear vari tast depend theyr produc sweet shini slimi other wonder flavor even flavor like least tast great problem mini bag disappear quicker imagin enjoy\n",
      "Review - 2 \n",
      " peopl think best tast shish bob must marin night sauc marin prepar meat veggi pineappl skewer ever like stack bob throw grill start bast sweet smokey time bob done sweet smokey sauc caram stop eat mani use sauc versatil wrong purchas\n",
      "Review - 3 \n",
      " becom breakfast stapl home near everi sunday morn make pancak weve got vermont mapel syrup egg sausag bacon set day light dinner use bettermilk absolut best result\n"
     ]
    }
   ],
   "source": [
    "# some reviews of cluster2\n",
    "for i in range(3):\n",
    "    print('Review -',i+1,\"\\n\",cluster2[i])"
   ]
  },
  {
   "cell_type": "code",
   "execution_count": 88,
   "metadata": {},
   "outputs": [
    {
     "name": "stdout",
     "output_type": "stream",
     "text": [
      "Review - 1 \n",
      " lover spici food excel replac salt addit better suit cook sprinkl prepar food yummi hot tongu tast may contradict annoy tickl back throat discov eat popcorn like food hot one know toler fact bought spice case read review describ insuffer hot wasnt way least tongu yet yummi sorri bought salt heavi peopl like salti hot food love salt replac use cook sprinkl\n",
      "Review - 2 \n",
      " ive eat bar year ive notic late qualiti good hard thing break teeth qualiti control monitor go call compani let know last box ive purchas par tast realli good long dont bite someth hard like bite nutshel need know asap\n",
      "Review - 3 \n",
      " love came well packag none broken melt chocol actual tast good fill chocol mouss bridal shower ador littl smaller expect perfect snack probabl easier smaller could fit whole thing mouth anyway less messi way\n"
     ]
    }
   ],
   "source": [
    "# some reviews of cluster3\n",
    "for i in range(3):\n",
    "    print('Review -',i+1,\"\\n\",cluster3[i])"
   ]
  },
  {
   "cell_type": "code",
   "execution_count": 89,
   "metadata": {},
   "outputs": [
    {
     "name": "stdout",
     "output_type": "stream",
     "text": [
      "Review - 1 \n",
      " spot local gourmet suppli shopp never heard wild oliv oil came home research first thing found line oliv oil use exclus one world best restaur celler roca michelin star girona spain proprietor celebr joan roca got attent found compani websit amaz detail process harvest process wild organ oliv wild organ oliv oil come point spain largest river ebro flow catalonia number artifici lake creat last centuri generat electr arid slope metr high near villag riba roja debr grow numer stubbi arbequina oliv tree small contort often old uniqu advantag altitud incid infam white fli dacus olei present big challeng organ oliv farmer lower altitud mean solivera grow certifi oliv without use pesticid harvest wild organ oliv oil press one last remain tradit stone mill spain oliv ground huge granit wheel press pile round straw mat oil decant graviti larg masonri cistern arm inform could gather went back shopp bought bottl amaz stuff along fresh french bread made beelin home say god olympus must sure bottl dine tabl good light earthi medium bodi full flavor fruiti great dip salad finish price reason ive alway fan spanish oliv oil even attach thank wonder peopl solivera dot com great background inform amaz gift culinari world pit\n",
      "Review - 2 \n",
      " candi sweeten xylitol great tast similar sugar candi doesnt strang aftertast found xylitol candi abl eat without much guilt still enjoy tast\n",
      "Review - 3 \n",
      " must honest buy amazon first time dont sell around hous find somewher get perfect mix flavor heat never better sauc\n"
     ]
    }
   ],
   "source": [
    "# some reviews of cluster4\n",
    "for i in range(3):\n",
    "    print('Review -',i+1,\"\\n\",cluster4[i])"
   ]
  },
  {
   "cell_type": "code",
   "execution_count": 90,
   "metadata": {},
   "outputs": [
    {
     "name": "stdout",
     "output_type": "stream",
     "text": [
      "Review - 1 \n",
      " ive eaten crown princ sardin tomato past leas yrs tri brand avail product deliv well box time ron\n",
      "Review - 2 \n",
      " cant say anyth qualiti tast textur touch smell substanc general qualiti product unfortun found order receiv product manufactur facil use tree nut soy appreci fact manufactur mention packag would help great inform note product inform page check amazon page mention incred import inform without famili member suffer peanut tree nut allergi mani live challeng steer clear product would also hesit purchas product manufactur without first verifi product manufactur facil use tree nut wait check websit there singl refer allergen gluten product actual seem rather ampl offer product good littl allergi last dont expect everi product free peanut tree nut expect manufactur make known ingredi product use facil ingredi use product unfortun bob red mill done neither websit product page amazon could return product anoth box origin one alreadi thrown much troubl hassl thank bob\n",
      "Review - 3 \n",
      " item arriv one time tasti pour bake brie delici would buy\n"
     ]
    }
   ],
   "source": [
    "# some reviews of cluster5\n",
    "for i in range(3):\n",
    "    print('Review -',i+1,\"\\n\",cluster5[i])"
   ]
  },
  {
   "cell_type": "code",
   "execution_count": 91,
   "metadata": {},
   "outputs": [
    {
     "name": "stdout",
     "output_type": "stream",
     "text": [
      "Review - 1 \n",
      " tasti chocol use seem like high qualiti provid perfect ad layer tast sweet confect melt mouth wow ever realli look like mushroom theyr quit impress way got substanti discount warehous deal otherwis theyr expens your got coin theyr worth\n",
      "Review - 2 \n",
      " blend spice extract supris amount flavor depth unlik mani popular steak season yet subtl enough enhanc instead overwhelm cover meat natur flavor definit tast invit aroma spice first chew immidiat afterward flavor meat sip take absolut becom favorit season steak meat general even kinda work nice fish bad news reason paticular mccormick season grinder disappear shelf popular groceri chain yet went mccormick websit doesnt appear theyv stop make quit mysteri gotten hard find day current somewhat reliabl way obtain internet buy small pack chanc youv gotten tast start buy pack\n",
      "Review - 3 \n",
      " look someth give energi wasnt drink keep get weigh gum fix look time work drive long distanc start fade drag work need kick true pant pop two piec feel like champ\n"
     ]
    }
   ],
   "source": [
    "# some reviews of cluster6\n",
    "for i in range(3):\n",
    "    print('Review -',i+1,\"\\n\",cluster6[i])"
   ]
  },
  {
   "cell_type": "code",
   "execution_count": 92,
   "metadata": {},
   "outputs": [
    {
     "name": "stdout",
     "output_type": "stream",
     "text": [
      "Review - 1 \n",
      " recent pick singl tub local walli world didnt butter flavor look took home pop wife love didnt even realli care kettl corn one differ cant wait get regular butter flavor next ill definit buy\n"
     ]
    }
   ],
   "source": [
    "# some reviews of cluster7\n",
    "for i in range(1):\n",
    "    print('Review -',i+1,\"\\n\",cluster7[i])"
   ]
  },
  {
   "cell_type": "code",
   "execution_count": 93,
   "metadata": {},
   "outputs": [
    {
     "name": "stdout",
     "output_type": "stream",
     "text": [
      "Review - 1 \n",
      " delici whole famili love yet difficult find local store sodium serv whole wheat make bit healthier averag cracker hint salt triscuit excel wheat thin particular favorit hous stock may find disappear quick\n",
      "Review - 2 \n",
      " mustv miss said nonpareil came pack six way want guess get lot pay arriv prompt complaint product\n",
      "Review - 3 \n",
      " said one drop equal whole packet splenda didnt believ tri turn super sweet littl aftertast super tasti excel keto diet yum\n"
     ]
    }
   ],
   "source": [
    "# some reviews of cluster8\n",
    "for i in range(3):\n",
    "    print('Review -',i+1,\"\\n\",cluster8[i])"
   ]
  },
  {
   "cell_type": "code",
   "execution_count": 94,
   "metadata": {},
   "outputs": [
    {
     "name": "stdout",
     "output_type": "stream",
     "text": [
      "Review - 1 \n",
      " suffer ibd inflammatori bowel diseas number year discov horror synthet ingredi carrageean guar gum major reason disord carrageean guar gum known carcinogen contribut inflammatori condit intestin read report cornucopia org sinc elimin food contain ingredi specif carrageean small intestin colon begun heal year doctor thought inflamm allergi relat wheat gluten relat suspect synthet carageean ingredi googl danger carrageean understand inflam colon contribut ibd ib crohn colon cancer horribl ingredi also milk dairi product pet food pleas read label buy product anyway coconut milk bit challeng use yes tast great know coconut ingredi wont inflam gut say coconut milk ive research contain horribl carrageean ingredi stay away read everi label peac\n",
      "Review - 2 \n",
      " happi purchas look nice hold contain price arriv perfect shape thing dislik product bottom two drawer sometim difficult pull instead glide sort wiggl shimmi realli big deal though minor annoy overal product everyth hope store least favorit flavor bottom difficult pull\n",
      "Review - 3 \n",
      " ive spent lot year drink diet drink get better shape cut sugar realiz carbon diet drink tend make stomach burn feel similar hunger convert drink find lot easier avoid snack drink doesnt make feel like reach snack ive diet green tea youv lipton lemon entir differ calori free slight honey tast made splenda dont high acid aftertast ive diet green tea doesnt tast like regular tea doesnt telltal green tea tast other drink stuff help satiat thirst curb hunger problem solv\n"
     ]
    }
   ],
   "source": [
    "# some reviews of cluster9\n",
    "for i in range(3):\n",
    "    print('Review -',i+1,\"\\n\",cluster9[i])"
   ]
  },
  {
   "cell_type": "code",
   "execution_count": 95,
   "metadata": {},
   "outputs": [
    {
     "name": "stdout",
     "output_type": "stream",
     "text": [
      "Review - 1 \n",
      " hard find spitz store area arent dill pickl flavor hubbi doesnt like found good price excit yummi\n",
      "Review - 2 \n",
      " dog epilepsi requir morn medic even medic capsul work great would reccommend product one\n",
      "Review - 3 \n",
      " greeni dental chew dog petit pack chew bailey get treat leav alon\n"
     ]
    }
   ],
   "source": [
    "# some reviews of cluster10\n",
    "for i in range(3):\n",
    "    print('Review -',i+1,\"\\n\",cluster10[i])"
   ]
  },
  {
   "cell_type": "markdown",
   "metadata": {},
   "source": [
    "# Conclusion:-"
   ]
  },
  {
   "cell_type": "markdown",
   "metadata": {},
   "source": [
    "# Procedure Followed:-"
   ]
  },
  {
   "cell_type": "markdown",
   "metadata": {},
   "source": [
    "STEP 1 :- Fetch the preprocess Text/Review data from saved files\n",
    "\n",
    "STEP 2 :- Fetch the BOW vectorize data from saved files\n",
    "\n",
    "STEP 3:- Implementing Hierarchical Clustering using multiple values of clusters such as 2,5 and 10\n",
    "\n",
    "STEP 4:- Reading reviews manually for each cluster 2,5 and 10\n",
    "\n",
    "STEP 5:- We did it for BOW,TF-IDF,AVGW2V AND TF-IDFW2V \n"
   ]
  }
 ],
 "metadata": {
  "kernelspec": {
   "display_name": "Python 3",
   "language": "python",
   "name": "python3"
  },
  "language_info": {
   "codemirror_mode": {
    "name": "ipython",
    "version": 3
   },
   "file_extension": ".py",
   "mimetype": "text/x-python",
   "name": "python",
   "nbconvert_exporter": "python",
   "pygments_lexer": "ipython3",
   "version": "3.6.5"
  }
 },
 "nbformat": 4,
 "nbformat_minor": 2
}
